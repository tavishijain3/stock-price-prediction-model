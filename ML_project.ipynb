{
  "nbformat": 4,
  "nbformat_minor": 0,
  "metadata": {
    "colab": {
      "provenance": []
    },
    "kernelspec": {
      "name": "python3",
      "display_name": "Python 3"
    },
    "language_info": {
      "name": "python"
    }
  },
  "cells": [
    {
      "cell_type": "code",
      "metadata": {
        "colab": {
          "base_uri": "https://localhost:8080/"
        },
        "id": "NrElLn2Dt22A",
        "outputId": "b07a5cdf-5e5e-4ed8-91e6-02fb990c6e93"
      },
      "source": [
        "from google.colab import drive\n",
        "drive.mount('/content/drive/')"
      ],
      "execution_count": null,
      "outputs": [
        {
          "output_type": "stream",
          "name": "stdout",
          "text": [
            "Drive already mounted at /content/drive/; to attempt to forcibly remount, call drive.mount(\"/content/drive/\", force_remount=True).\n"
          ]
        }
      ]
    },
    {
      "cell_type": "markdown",
      "source": [
        "#Pre Processing"
      ],
      "metadata": {
        "id": "nFApWnGWj6ZE"
      }
    },
    {
      "cell_type": "code",
      "metadata": {
        "id": "HdfT9rueJ6nx"
      },
      "source": [
        "import pandas as pd\n",
        "import numpy as np\n",
        "import matplotlib.pyplot as plt\n"
      ],
      "execution_count": null,
      "outputs": []
    },
    {
      "cell_type": "code",
      "metadata": {
        "id": "cJDNU7Y4LTb8"
      },
      "source": [
        "MSFT = pd.read_csv('/content/drive/My Drive/ML/Dataset/MSFT.csv')"
      ],
      "execution_count": null,
      "outputs": []
    },
    {
      "cell_type": "code",
      "metadata": {
        "colab": {
          "base_uri": "https://localhost:8080/"
        },
        "id": "aiDpIfDUL4eQ",
        "outputId": "73aeb687-d2ac-482b-9f21-6b123636b44d"
      },
      "source": [
        "MSFT.info()"
      ],
      "execution_count": null,
      "outputs": [
        {
          "output_type": "stream",
          "name": "stdout",
          "text": [
            "<class 'pandas.core.frame.DataFrame'>\n",
            "RangeIndex: 1259 entries, 0 to 1258\n",
            "Data columns (total 7 columns):\n",
            " #   Column     Non-Null Count  Dtype  \n",
            "---  ------     --------------  -----  \n",
            " 0   Date       1259 non-null   object \n",
            " 1   Open       1259 non-null   float64\n",
            " 2   High       1259 non-null   float64\n",
            " 3   Low        1259 non-null   float64\n",
            " 4   Close      1259 non-null   float64\n",
            " 5   Adj Close  1259 non-null   float64\n",
            " 6   Volume     1259 non-null   int64  \n",
            "dtypes: float64(5), int64(1), object(1)\n",
            "memory usage: 69.0+ KB\n"
          ]
        }
      ]
    },
    {
      "cell_type": "code",
      "metadata": {
        "colab": {
          "base_uri": "https://localhost:8080/",
          "height": 300
        },
        "id": "MjSW96Y0L8Xf",
        "outputId": "8a747ae8-2f20-4abe-ede0-f97b7e6831b0"
      },
      "source": [
        "MSFT.describe()"
      ],
      "execution_count": null,
      "outputs": [
        {
          "output_type": "execute_result",
          "data": {
            "text/html": [
              "<div>\n",
              "<style scoped>\n",
              "    .dataframe tbody tr th:only-of-type {\n",
              "        vertical-align: middle;\n",
              "    }\n",
              "\n",
              "    .dataframe tbody tr th {\n",
              "        vertical-align: top;\n",
              "    }\n",
              "\n",
              "    .dataframe thead th {\n",
              "        text-align: right;\n",
              "    }\n",
              "</style>\n",
              "<table border=\"1\" class=\"dataframe\">\n",
              "  <thead>\n",
              "    <tr style=\"text-align: right;\">\n",
              "      <th></th>\n",
              "      <th>Open</th>\n",
              "      <th>High</th>\n",
              "      <th>Low</th>\n",
              "      <th>Close</th>\n",
              "      <th>Adj Close</th>\n",
              "      <th>Volume</th>\n",
              "    </tr>\n",
              "  </thead>\n",
              "  <tbody>\n",
              "    <tr>\n",
              "      <th>count</th>\n",
              "      <td>1259.000000</td>\n",
              "      <td>1259.000000</td>\n",
              "      <td>1259.000000</td>\n",
              "      <td>1259.000000</td>\n",
              "      <td>1259.000000</td>\n",
              "      <td>1.259000e+03</td>\n",
              "    </tr>\n",
              "    <tr>\n",
              "      <th>mean</th>\n",
              "      <td>141.316372</td>\n",
              "      <td>142.635957</td>\n",
              "      <td>139.943018</td>\n",
              "      <td>141.370437</td>\n",
              "      <td>138.390429</td>\n",
              "      <td>2.855832e+07</td>\n",
              "    </tr>\n",
              "    <tr>\n",
              "      <th>std</th>\n",
              "      <td>67.395704</td>\n",
              "      <td>68.054304</td>\n",
              "      <td>66.776362</td>\n",
              "      <td>67.463308</td>\n",
              "      <td>68.645192</td>\n",
              "      <td>1.284490e+07</td>\n",
              "    </tr>\n",
              "    <tr>\n",
              "      <th>min</th>\n",
              "      <td>56.700001</td>\n",
              "      <td>57.270000</td>\n",
              "      <td>56.320000</td>\n",
              "      <td>56.919998</td>\n",
              "      <td>52.664017</td>\n",
              "      <td>7.425600e+06</td>\n",
              "    </tr>\n",
              "    <tr>\n",
              "      <th>25%</th>\n",
              "      <td>86.325001</td>\n",
              "      <td>87.294998</td>\n",
              "      <td>85.500000</td>\n",
              "      <td>86.364998</td>\n",
              "      <td>82.243481</td>\n",
              "      <td>2.027515e+07</td>\n",
              "    </tr>\n",
              "    <tr>\n",
              "      <th>50%</th>\n",
              "      <td>119.500000</td>\n",
              "      <td>120.230003</td>\n",
              "      <td>118.580002</td>\n",
              "      <td>119.839996</td>\n",
              "      <td>116.641037</td>\n",
              "      <td>2.522750e+07</td>\n",
              "    </tr>\n",
              "    <tr>\n",
              "      <th>75%</th>\n",
              "      <td>200.709999</td>\n",
              "      <td>203.959999</td>\n",
              "      <td>198.375000</td>\n",
              "      <td>201.965004</td>\n",
              "      <td>199.646011</td>\n",
              "      <td>3.278815e+07</td>\n",
              "    </tr>\n",
              "    <tr>\n",
              "      <th>max</th>\n",
              "      <td>305.019989</td>\n",
              "      <td>305.839996</td>\n",
              "      <td>302.000000</td>\n",
              "      <td>305.220001</td>\n",
              "      <td>305.220001</td>\n",
              "      <td>1.112421e+08</td>\n",
              "    </tr>\n",
              "  </tbody>\n",
              "</table>\n",
              "</div>"
            ],
            "text/plain": [
              "              Open         High  ...    Adj Close        Volume\n",
              "count  1259.000000  1259.000000  ...  1259.000000  1.259000e+03\n",
              "mean    141.316372   142.635957  ...   138.390429  2.855832e+07\n",
              "std      67.395704    68.054304  ...    68.645192  1.284490e+07\n",
              "min      56.700001    57.270000  ...    52.664017  7.425600e+06\n",
              "25%      86.325001    87.294998  ...    82.243481  2.027515e+07\n",
              "50%     119.500000   120.230003  ...   116.641037  2.522750e+07\n",
              "75%     200.709999   203.959999  ...   199.646011  3.278815e+07\n",
              "max     305.019989   305.839996  ...   305.220001  1.112421e+08\n",
              "\n",
              "[8 rows x 6 columns]"
            ]
          },
          "metadata": {},
          "execution_count": 88
        }
      ]
    },
    {
      "cell_type": "code",
      "metadata": {
        "colab": {
          "base_uri": "https://localhost:8080/",
          "height": 206
        },
        "id": "hpwCiK-BMfqY",
        "outputId": "aef0a204-b0db-49ad-c194-11f41f193187"
      },
      "source": [
        "MSFT.tail()\n"
      ],
      "execution_count": null,
      "outputs": [
        {
          "output_type": "execute_result",
          "data": {
            "text/html": [
              "<div>\n",
              "<style scoped>\n",
              "    .dataframe tbody tr th:only-of-type {\n",
              "        vertical-align: middle;\n",
              "    }\n",
              "\n",
              "    .dataframe tbody tr th {\n",
              "        vertical-align: top;\n",
              "    }\n",
              "\n",
              "    .dataframe thead th {\n",
              "        text-align: right;\n",
              "    }\n",
              "</style>\n",
              "<table border=\"1\" class=\"dataframe\">\n",
              "  <thead>\n",
              "    <tr style=\"text-align: right;\">\n",
              "      <th></th>\n",
              "      <th>Date</th>\n",
              "      <th>Open</th>\n",
              "      <th>High</th>\n",
              "      <th>Low</th>\n",
              "      <th>Close</th>\n",
              "      <th>Adj Close</th>\n",
              "      <th>Volume</th>\n",
              "    </tr>\n",
              "  </thead>\n",
              "  <tbody>\n",
              "    <tr>\n",
              "      <th>1254</th>\n",
              "      <td>2021-09-27</td>\n",
              "      <td>296.140015</td>\n",
              "      <td>296.470001</td>\n",
              "      <td>292.940002</td>\n",
              "      <td>294.170013</td>\n",
              "      <td>294.170013</td>\n",
              "      <td>23571700</td>\n",
              "    </tr>\n",
              "    <tr>\n",
              "      <th>1255</th>\n",
              "      <td>2021-09-28</td>\n",
              "      <td>289.799988</td>\n",
              "      <td>290.779999</td>\n",
              "      <td>282.750000</td>\n",
              "      <td>283.519989</td>\n",
              "      <td>283.519989</td>\n",
              "      <td>43186200</td>\n",
              "    </tr>\n",
              "    <tr>\n",
              "      <th>1256</th>\n",
              "      <td>2021-09-29</td>\n",
              "      <td>285.100006</td>\n",
              "      <td>286.769989</td>\n",
              "      <td>283.010010</td>\n",
              "      <td>284.000000</td>\n",
              "      <td>284.000000</td>\n",
              "      <td>26353700</td>\n",
              "    </tr>\n",
              "    <tr>\n",
              "      <th>1257</th>\n",
              "      <td>2021-09-30</td>\n",
              "      <td>285.709991</td>\n",
              "      <td>287.829987</td>\n",
              "      <td>281.619995</td>\n",
              "      <td>281.920013</td>\n",
              "      <td>281.920013</td>\n",
              "      <td>32325800</td>\n",
              "    </tr>\n",
              "    <tr>\n",
              "      <th>1258</th>\n",
              "      <td>2021-10-01</td>\n",
              "      <td>282.121704</td>\n",
              "      <td>289.980011</td>\n",
              "      <td>281.309998</td>\n",
              "      <td>289.100006</td>\n",
              "      <td>289.100006</td>\n",
              "      <td>27421895</td>\n",
              "    </tr>\n",
              "  </tbody>\n",
              "</table>\n",
              "</div>"
            ],
            "text/plain": [
              "            Date        Open        High  ...       Close   Adj Close    Volume\n",
              "1254  2021-09-27  296.140015  296.470001  ...  294.170013  294.170013  23571700\n",
              "1255  2021-09-28  289.799988  290.779999  ...  283.519989  283.519989  43186200\n",
              "1256  2021-09-29  285.100006  286.769989  ...  284.000000  284.000000  26353700\n",
              "1257  2021-09-30  285.709991  287.829987  ...  281.920013  281.920013  32325800\n",
              "1258  2021-10-01  282.121704  289.980011  ...  289.100006  289.100006  27421895\n",
              "\n",
              "[5 rows x 7 columns]"
            ]
          },
          "metadata": {},
          "execution_count": 89
        }
      ]
    },
    {
      "cell_type": "code",
      "metadata": {
        "colab": {
          "base_uri": "https://localhost:8080/",
          "height": 513
        },
        "id": "2jR86-dpMl0Z",
        "outputId": "3b5b86d4-1ea4-4171-a89b-2fd702a0c053"
      },
      "source": [
        "plt.figure(figsize=(16,8))\n",
        "plt.title('MSFT')\n",
        "plt.xlabel('Days')\n",
        "plt.ylabel('Opening Price USD ($)')\n",
        "plt.plot(MSFT['Open'])\n",
        "plt.show()"
      ],
      "execution_count": null,
      "outputs": [
        {
          "output_type": "display_data",
          "data": {
            "image/png": "[encoded data removed]",
            "text/plain": [
              "<Figure size 1152x576 with 1 Axes>"
            ]
          },
          "metadata": {
            "needs_background": "light"
          }
        }
      ]
    },
    {
      "cell_type": "code",
      "metadata": {
        "colab": {
          "base_uri": "https://localhost:8080/",
          "height": 513
        },
        "id": "v9ocF_ecNTIN",
        "outputId": "70ce98b7-2d92-486f-cdfa-73f7b6d0fcba"
      },
      "source": [
        "plt.figure(figsize=(16,8))\n",
        "plt.title('MSFT')\n",
        "plt.xlabel('Days')\n",
        "plt.ylabel('Closing Price USD ($)')\n",
        "plt.plot(MSFT['Close'])\n",
        "plt.show()"
      ],
      "execution_count": null,
      "outputs": [
        {
          "output_type": "display_data",
          "data": {
            "image/png": "[encoded data removed]",
            "text/plain": [
              "<Figure size 1152x576 with 1 Axes>"
            ]
          },
          "metadata": {
            "needs_background": "light"
          }
        }
      ]
    },
    {
      "cell_type": "markdown",
      "metadata": {
        "id": "yBn5pXVMNUKq"
      },
      "source": [
        "#NEW"
      ]
    },
    {
      "cell_type": "markdown",
      "metadata": {
        "id": "7abcJEiTNZvu"
      },
      "source": [
        "https://ieeexplore.ieee.org/abstract/document/8212716/authors#authors\n",
        "https://ieeexplore.ieee.org/abstract/document/8212716/authors#authors\n",
        "\n",
        "https://ieeexplore.ieee.org/abstract/document/9404733"
      ]
    },
    {
      "cell_type": "code",
      "metadata": {
        "id": "PIY0JtmMNTTX"
      },
      "source": [
        "MSFT_new = MSFT.drop(['Adj Close', 'Volume'], axis =1)"
      ],
      "execution_count": null,
      "outputs": []
    },
    {
      "cell_type": "code",
      "metadata": {
        "id": "fL_YnpAZN-OW"
      },
      "source": [
        "MSFT_new = MSFT_new.set_index(MSFT_new['Date'])\n",
        "MSFT_new = MSFT_new.drop(['Date'], axis =1)"
      ],
      "execution_count": null,
      "outputs": []
    },
    {
      "cell_type": "code",
      "metadata": {
        "colab": {
          "base_uri": "https://localhost:8080/",
          "height": 455
        },
        "id": "hJO1nwKyOS9k",
        "outputId": "e89102bc-84be-40be-8042-c136fabc1a74"
      },
      "source": [
        "MSFT_new"
      ],
      "execution_count": null,
      "outputs": [
        {
          "output_type": "execute_result",
          "data": {
            "text/html": [
              "<div>\n",
              "<style scoped>\n",
              "    .dataframe tbody tr th:only-of-type {\n",
              "        vertical-align: middle;\n",
              "    }\n",
              "\n",
              "    .dataframe tbody tr th {\n",
              "        vertical-align: top;\n",
              "    }\n",
              "\n",
              "    .dataframe thead th {\n",
              "        text-align: right;\n",
              "    }\n",
              "</style>\n",
              "<table border=\"1\" class=\"dataframe\">\n",
              "  <thead>\n",
              "    <tr style=\"text-align: right;\">\n",
              "      <th></th>\n",
              "      <th>Open</th>\n",
              "      <th>High</th>\n",
              "      <th>Low</th>\n",
              "      <th>Close</th>\n",
              "    </tr>\n",
              "    <tr>\n",
              "      <th>Date</th>\n",
              "      <th></th>\n",
              "      <th></th>\n",
              "      <th></th>\n",
              "      <th></th>\n",
              "    </tr>\n",
              "  </thead>\n",
              "  <tbody>\n",
              "    <tr>\n",
              "      <th>2016-10-03</th>\n",
              "      <td>57.410000</td>\n",
              "      <td>57.549999</td>\n",
              "      <td>57.060001</td>\n",
              "      <td>57.419998</td>\n",
              "    </tr>\n",
              "    <tr>\n",
              "      <th>2016-10-04</th>\n",
              "      <td>57.270000</td>\n",
              "      <td>57.599998</td>\n",
              "      <td>56.970001</td>\n",
              "      <td>57.240002</td>\n",
              "    </tr>\n",
              "    <tr>\n",
              "      <th>2016-10-05</th>\n",
              "      <td>57.290001</td>\n",
              "      <td>57.959999</td>\n",
              "      <td>57.259998</td>\n",
              "      <td>57.639999</td>\n",
              "    </tr>\n",
              "    <tr>\n",
              "      <th>2016-10-06</th>\n",
              "      <td>57.740002</td>\n",
              "      <td>57.860001</td>\n",
              "      <td>57.279999</td>\n",
              "      <td>57.740002</td>\n",
              "    </tr>\n",
              "    <tr>\n",
              "      <th>2016-10-07</th>\n",
              "      <td>57.849998</td>\n",
              "      <td>57.980000</td>\n",
              "      <td>57.419998</td>\n",
              "      <td>57.799999</td>\n",
              "    </tr>\n",
              "    <tr>\n",
              "      <th>...</th>\n",
              "      <td>...</td>\n",
              "      <td>...</td>\n",
              "      <td>...</td>\n",
              "      <td>...</td>\n",
              "    </tr>\n",
              "    <tr>\n",
              "      <th>2021-09-27</th>\n",
              "      <td>296.140015</td>\n",
              "      <td>296.470001</td>\n",
              "      <td>292.940002</td>\n",
              "      <td>294.170013</td>\n",
              "    </tr>\n",
              "    <tr>\n",
              "      <th>2021-09-28</th>\n",
              "      <td>289.799988</td>\n",
              "      <td>290.779999</td>\n",
              "      <td>282.750000</td>\n",
              "      <td>283.519989</td>\n",
              "    </tr>\n",
              "    <tr>\n",
              "      <th>2021-09-29</th>\n",
              "      <td>285.100006</td>\n",
              "      <td>286.769989</td>\n",
              "      <td>283.010010</td>\n",
              "      <td>284.000000</td>\n",
              "    </tr>\n",
              "    <tr>\n",
              "      <th>2021-09-30</th>\n",
              "      <td>285.709991</td>\n",
              "      <td>287.829987</td>\n",
              "      <td>281.619995</td>\n",
              "      <td>281.920013</td>\n",
              "    </tr>\n",
              "    <tr>\n",
              "      <th>2021-10-01</th>\n",
              "      <td>282.121704</td>\n",
              "      <td>289.980011</td>\n",
              "      <td>281.309998</td>\n",
              "      <td>289.100006</td>\n",
              "    </tr>\n",
              "  </tbody>\n",
              "</table>\n",
              "<p>1259 rows × 4 columns</p>\n",
              "</div>"
            ],
            "text/plain": [
              "                  Open        High         Low       Close\n",
              "Date                                                      \n",
              "2016-10-03   57.410000   57.549999   57.060001   57.419998\n",
              "2016-10-04   57.270000   57.599998   56.970001   57.240002\n",
              "2016-10-05   57.290001   57.959999   57.259998   57.639999\n",
              "2016-10-06   57.740002   57.860001   57.279999   57.740002\n",
              "2016-10-07   57.849998   57.980000   57.419998   57.799999\n",
              "...                ...         ...         ...         ...\n",
              "2021-09-27  296.140015  296.470001  292.940002  294.170013\n",
              "2021-09-28  289.799988  290.779999  282.750000  283.519989\n",
              "2021-09-29  285.100006  286.769989  283.010010  284.000000\n",
              "2021-09-30  285.709991  287.829987  281.619995  281.920013\n",
              "2021-10-01  282.121704  289.980011  281.309998  289.100006\n",
              "\n",
              "[1259 rows x 4 columns]"
            ]
          },
          "metadata": {},
          "execution_count": 94
        }
      ]
    },
    {
      "cell_type": "markdown",
      "metadata": {
        "id": "dIGdtifDOikO"
      },
      "source": [
        "#Trying to predict n days in future"
      ]
    },
    {
      "cell_type": "code",
      "metadata": {
        "id": "-Z9--XXlTmTg"
      },
      "source": [
        "# n defines number of days in future which are to be forecasted\n",
        "n = 10"
      ],
      "execution_count": null,
      "outputs": []
    },
    {
      "cell_type": "code",
      "metadata": {
        "id": "Ncje8r2eOnJ4"
      },
      "source": [
        "# actual = MSFT_new[['Close']][-n:] # Actual close value of last 5 days of Stocks\n",
        "actual = MSFT_new[['Close']]\n",
        "# index = np.arange(100)\n",
        "# actual =actual.set_index(index)\n",
        "# X = np.array(MSFT_close[['EMA_close']])\n",
        "X_future = MSFT_new.drop(['Close'], axis =1)[-n:] # use this to predict 5 days in future\n",
        "# X_future = MSFT_new.drop(['Close'], axis =1)\n",
        "Y_actual = MSFT_new['Close'][-n:]\n",
        "# Y_actual = MSFT_new['Close']\n",
        "X = MSFT_new.drop(['Close'], axis=1)[:-n] # use this as X_train and test\n",
        "y = MSFT_new['Close'][:-n] #use this as Y_train/test"
      ],
      "execution_count": null,
      "outputs": []
    },
    {
      "cell_type": "code",
      "metadata": {
        "id": "sDXlyIiBPgsO"
      },
      "source": [
        "#splitting dataset\n",
        "from sklearn.model_selection import train_test_split\n",
        "X_train, X_test, Y_train, Y_test = train_test_split(X, y, test_size=0.2, random_state=0) #cross validation\n",
        "MAE_5= []\n",
        "RMSE_5= []"
      ],
      "execution_count": null,
      "outputs": []
    },
    {
      "cell_type": "code",
      "metadata": {
        "colab": {
          "base_uri": "https://localhost:8080/",
          "height": 36
        },
        "id": "dWk3bljKT2Zk",
        "outputId": "49380a25-82b2-4931-a0e8-09e2dc17b071"
      },
      "source": [
        "Y_actual.index[0]"
      ],
      "execution_count": null,
      "outputs": [
        {
          "output_type": "execute_result",
          "data": {
            "application/vnd.google.colaboratory.intrinsic+json": {
              "type": "string"
            },
            "text/plain": [
              "'2021-09-20'"
            ]
          },
          "metadata": {},
          "execution_count": 98
        }
      ]
    },
    {
      "cell_type": "markdown",
      "source": [
        "#Linear Regression"
      ],
      "metadata": {
        "id": "RIcvgQLbldsg"
      }
    },
    {
      "cell_type": "code",
      "metadata": {
        "id": "0i3Z5Mj2QLTY",
        "colab": {
          "base_uri": "https://localhost:8080/"
        },
        "outputId": "cece2522-62de-442f-e54a-c3e11b5f74f9"
      },
      "source": [
        "#Linear Regression\n",
        "from sklearn.linear_model import LinearRegression\n",
        "from sklearn.metrics import mean_squared_error, mean_absolute_error\n",
        "LR = LinearRegression() #initializing linear regression model\n",
        "LR.fit(X_train,Y_train)\n",
        "y_pred = LR.predict(X_test)\n",
        "print(\"Mean absolute error\",mean_absolute_error(Y_test, y_pred))\n",
        "print(\"Mean squared error\",mean_squared_error(Y_test, y_pred))\n",
        "# print(\"r2 score\",r2_score(Y_test, y_pred))"
      ],
      "execution_count": null,
      "outputs": [
        {
          "output_type": "stream",
          "name": "stdout",
          "text": [
            "Mean absolute error 0.6318468665579722\n",
            "Mean squared error 1.131349759014507\n"
          ]
        }
      ]
    },
    {
      "cell_type": "code",
      "metadata": {
        "id": "g6jA5PbESWgY"
      },
      "source": [
        "Y_future_LR = LR.predict(X_future)\n",
        "import math\n",
        "MAE_5 .append(mean_absolute_error(Y_actual, Y_future_LR))\n",
        "RMSE_5.append(math.sqrt(mean_squared_error(Y_actual, Y_future_LR)))\n",
        "# print(\"r2 score\",r2_score(Y_actual, Y_future))"
      ],
      "execution_count": null,
      "outputs": []
    },
    {
      "cell_type": "markdown",
      "metadata": {
        "id": "kZDckOD5AOG0"
      },
      "source": [
        "#Linear Regression Using Bagging"
      ]
    },
    {
      "cell_type": "code",
      "metadata": {
        "colab": {
          "base_uri": "https://localhost:8080/"
        },
        "id": "LzNmnWDOAHN1",
        "outputId": "4bf234b7-cd75-4d72-be9f-5bdf6bfd80fa"
      },
      "source": [
        "from sklearn.ensemble import BaggingRegressor\n",
        "# no. of base classifier\n",
        "num_trees = 500\n",
        "seed=8\n",
        "\n",
        "# bagging classifier\n",
        "LR_Bagging = BaggingRegressor(base_estimator = LR,\n",
        "                          n_estimators = num_trees,\n",
        "                          random_state = seed)\n",
        "LR_Bagging.fit(X_train,Y_train)\n",
        "y_pred = LR_Bagging.predict(X_test)\n",
        "print(\"Mean absolute error\",mean_absolute_error(Y_test, y_pred))\n",
        "print(\"Mean squared error\",mean_squared_error(Y_test, y_pred))"
      ],
      "execution_count": null,
      "outputs": [
        {
          "output_type": "stream",
          "name": "stdout",
          "text": [
            "Mean absolute error 0.6315913311594045\n",
            "Mean squared error 1.1299001900784966\n"
          ]
        }
      ]
    },
    {
      "cell_type": "code",
      "metadata": {
        "id": "oA31YXK_AHQK"
      },
      "source": [
        "Y_future_LR_Bagging = LR_Bagging.predict(X_future)\n",
        "import math\n",
        "MAE_5 .append(mean_absolute_error(Y_actual, Y_future_LR_Bagging))\n",
        "RMSE_5.append(math.sqrt(mean_squared_error(Y_actual, Y_future_LR_Bagging)))"
      ],
      "execution_count": null,
      "outputs": []
    },
    {
      "cell_type": "markdown",
      "source": [
        "#Ada Boost Linear Regression"
      ],
      "metadata": {
        "id": "D3iH4PPWs5kp"
      }
    },
    {
      "cell_type": "code",
      "source": [
        "Ada_MAE =[]\n",
        "Ada_RMSE =[]\n",
        "import math\n",
        "from sklearn.metrics import mean_squared_error, mean_absolute_error\n",
        "from sklearn.ensemble import AdaBoostRegressor\n",
        "from sklearn.linear_model import LinearRegression\n",
        "LR = LinearRegression()\n",
        "ada_LR = AdaBoostRegressor(base_estimator=LR, learning_rate=0.01, loss = 'exponential')\n",
        "ada_LR.fit(X_train,Y_train)\n",
        "# y_pred = ada_LR.predict(X_test)\n",
        "Y_future_ada_LR = ada_LR.predict(X_future)\n",
        "MAE_5.append(mean_absolute_error(Y_actual, Y_future_ada_LR))\n",
        "RMSE_5.append(math.sqrt(mean_squared_error(Y_actual, Y_future_ada_LR)))"
      ],
      "metadata": {
        "id": "q8zJ0y8Ks9ui"
      },
      "execution_count": null,
      "outputs": []
    },
    {
      "cell_type": "code",
      "source": [
        "Y_future_ada_LR = ada_LR.predict(X_future)\n",
        "math.sqrt(mean_squared_error(Y_actual, Y_future_ada_LR))"
      ],
      "metadata": {
        "colab": {
          "base_uri": "https://localhost:8080/"
        },
        "id": "N47DizZLs_MZ",
        "outputId": "5a9045d5-6237-43a7-b288-d512d7fe69e5"
      },
      "execution_count": null,
      "outputs": [
        {
          "output_type": "execute_result",
          "data": {
            "text/plain": [
              "1.274786481707374"
            ]
          },
          "metadata": {},
          "execution_count": 104
        }
      ]
    },
    {
      "cell_type": "markdown",
      "metadata": {
        "id": "3bDq8HpwqOA2"
      },
      "source": [
        "#SVM"
      ]
    },
    {
      "cell_type": "code",
      "metadata": {
        "colab": {
          "base_uri": "https://localhost:8080/"
        },
        "id": "dJQEq15nnm3K",
        "outputId": "69a902bb-ac30-49f7-a942-0afbc8bb3671"
      },
      "source": [
        "from sklearn import svm\n",
        "SV= svm.SVR()\n",
        "SV.fit(X_train,Y_train)\n",
        "y_pred = SV.predict(X_test)\n",
        "print(\"Mean absolute error\",mean_absolute_error(Y_test, y_pred))\n",
        "print(\"Mean squared error\",mean_squared_error(Y_test, y_pred))\n",
        "# print(\"r2 score\",r2_score(Y_test, y_pred))\n"
      ],
      "execution_count": null,
      "outputs": [
        {
          "output_type": "stream",
          "name": "stdout",
          "text": [
            "Mean absolute error 4.7432077416495755\n",
            "Mean squared error 147.53889356831007\n"
          ]
        }
      ]
    },
    {
      "cell_type": "code",
      "metadata": {
        "id": "sYJ8eDvLoAqG"
      },
      "source": [
        "Y_future_SV = SV.predict(X_future)\n",
        "import math\n",
        "MAE_5 .append(mean_absolute_error(Y_actual, Y_future_SV))\n",
        "RMSE_5.append(math.sqrt(mean_squared_error(Y_actual, Y_future_SV)))"
      ],
      "execution_count": null,
      "outputs": []
    },
    {
      "cell_type": "markdown",
      "source": [
        "#SVM with Bagging"
      ],
      "metadata": {
        "id": "8IP0-WjSlokU"
      }
    },
    {
      "cell_type": "code",
      "metadata": {
        "colab": {
          "base_uri": "https://localhost:8080/"
        },
        "id": "iQX4V6bPA2oY",
        "outputId": "cbb8ffff-4ad6-4567-9401-eb323c844d38"
      },
      "source": [
        " # bagging classifier\n",
        "SVM_Bagging = BaggingRegressor(base_estimator = SV)\n",
        "SVM_Bagging.fit(X_train,Y_train)\n",
        "y_pred = SVM_Bagging.predict(X_test)\n",
        "print(\"Mean absolute error\",mean_absolute_error(Y_test, y_pred))\n",
        "print(\"Mean squared error\",mean_squared_error(Y_test, y_pred))"
      ],
      "execution_count": null,
      "outputs": [
        {
          "output_type": "stream",
          "name": "stdout",
          "text": [
            "Mean absolute error 4.763541154279585\n",
            "Mean squared error 148.86566848618588\n"
          ]
        }
      ]
    },
    {
      "cell_type": "code",
      "metadata": {
        "id": "OSutk19YBFOj"
      },
      "source": [
        "Y_future_SVM = SVM_Bagging.predict(X_future)\n",
        "import math\n",
        "MAE_5 .append(mean_absolute_error(Y_actual, Y_future_SVM))\n",
        "RMSE_5.append(math.sqrt(mean_squared_error(Y_actual, Y_future_SVM)))"
      ],
      "execution_count": null,
      "outputs": []
    },
    {
      "cell_type": "markdown",
      "source": [
        "#SVM AdaBoost"
      ],
      "metadata": {
        "id": "2PB9W4KftXr5"
      }
    },
    {
      "cell_type": "code",
      "source": [
        "import math\n",
        "from sklearn.metrics import mean_squared_error, mean_absolute_error\n",
        "from sklearn.ensemble import AdaBoostRegressor\n",
        "from sklearn import svm\n",
        "SV= svm.SVR()\n",
        "ada_SV = AdaBoostRegressor(base_estimator=SV, learning_rate=0.01, loss = 'exponential', n_estimators=800)\n",
        "ada_SV.fit(X_train,Y_train)\n",
        "Y_future_ada_SV = ada_SV.predict(X_future)\n",
        "MAE_5.append(mean_absolute_error(Y_actual, Y_future_ada_SV))\n",
        "RMSE_5.append(math.sqrt(mean_squared_error(Y_actual, Y_future_ada_SV)))"
      ],
      "metadata": {
        "id": "QYc27r-ZtdQm"
      },
      "execution_count": null,
      "outputs": []
    },
    {
      "cell_type": "markdown",
      "metadata": {
        "id": "QMjDipXTqQlT"
      },
      "source": [
        "#DT Regressor"
      ]
    },
    {
      "cell_type": "code",
      "metadata": {
        "colab": {
          "base_uri": "https://localhost:8080/"
        },
        "id": "W211ijRzqTVf",
        "outputId": "e118820d-b49e-40c7-9b5e-1cfac708f437"
      },
      "source": [
        "from sklearn.tree import DecisionTreeRegressor\n",
        "DTR = DecisionTreeRegressor(max_depth= 5)\n",
        "DTR.fit(X_train,Y_train)\n",
        "y_pred = DTR.predict(X_test)\n",
        "print(\"Mean absolute error\",mean_absolute_error(Y_test, y_pred))\n",
        "print(\"Mean squared error\",mean_squared_error(Y_test, y_pred))\n",
        "# print(\"r2 score\",r2_score(Y_test, y_pred))"
      ],
      "execution_count": null,
      "outputs": [
        {
          "output_type": "stream",
          "name": "stdout",
          "text": [
            "Mean absolute error 1.701965261926075\n",
            "Mean squared error 5.659403764533578\n"
          ]
        }
      ]
    },
    {
      "cell_type": "code",
      "metadata": {
        "id": "Y0KRZ5lrqjtK"
      },
      "source": [
        "Y_future_DTR = DTR.predict(X_future)\n",
        "import math\n",
        "MAE_5 .append(mean_absolute_error(Y_actual, Y_future_DTR))\n",
        "RMSE_5.append(math.sqrt(mean_squared_error(Y_actual, Y_future_DTR)))"
      ],
      "execution_count": null,
      "outputs": []
    },
    {
      "cell_type": "markdown",
      "source": [
        "#DT Regressor with Bagging"
      ],
      "metadata": {
        "id": "7C0g-Gpflvnn"
      }
    },
    {
      "cell_type": "code",
      "metadata": {
        "colab": {
          "base_uri": "https://localhost:8080/"
        },
        "id": "6aAZK2zyOgR9",
        "outputId": "3f594ef0-2842-49fc-8212-9248c57dc4a0"
      },
      "source": [
        "# bagging classifier\n",
        "DTR_Bagging = BaggingRegressor(base_estimator = DTR)\n",
        "DTR_Bagging.fit(X_train,Y_train)\n",
        "y_pred = DTR_Bagging.predict(X_test)\n",
        "print(\"Mean absolute error\",mean_absolute_error(Y_test, y_pred))\n",
        "print(\"Mean squared error\",mean_squared_error(Y_test, y_pred))"
      ],
      "execution_count": null,
      "outputs": [
        {
          "output_type": "stream",
          "name": "stdout",
          "text": [
            "Mean absolute error 1.2866116060033164\n",
            "Mean squared error 3.1257342236159973\n"
          ]
        }
      ]
    },
    {
      "cell_type": "code",
      "metadata": {
        "id": "e0N7RHVxOsrZ"
      },
      "source": [
        "Y_future_DTR_Bagging = DTR_Bagging.predict(X_future)\n",
        "import math\n",
        "MAE_5 .append(mean_absolute_error(Y_actual, Y_future_DTR_Bagging))\n",
        "RMSE_5.append(math.sqrt(mean_squared_error(Y_actual, Y_future_DTR_Bagging)))"
      ],
      "execution_count": null,
      "outputs": []
    },
    {
      "cell_type": "markdown",
      "source": [
        "#DT Ada Boost"
      ],
      "metadata": {
        "id": "0qrJHPA6tmNB"
      }
    },
    {
      "cell_type": "code",
      "source": [
        "import math\n",
        "from sklearn.metrics import mean_squared_error, mean_absolute_error\n",
        "from sklearn.ensemble import AdaBoostRegressor\n",
        "from sklearn.tree import DecisionTreeRegressor\n",
        "DTR = DecisionTreeRegressor(max_depth= 5)\n",
        "ada_DTR = AdaBoostRegressor(base_estimator=DTR, learning_rate=0.01, loss = 'exponential')\n",
        "ada_DTR.fit(X_train,Y_train)\n",
        "Y_future_ada_DTR = ada_DTR.predict(X_future)\n",
        "MAE_5.append(mean_absolute_error(Y_actual, Y_future_ada_DTR))\n",
        "RMSE_5.append(math.sqrt(mean_squared_error(Y_actual, Y_future_ada_DTR)))"
      ],
      "metadata": {
        "id": "Tt4v85Q0tocy"
      },
      "execution_count": null,
      "outputs": []
    },
    {
      "cell_type": "markdown",
      "source": [
        "# Bayesian Ridge Regression"
      ],
      "metadata": {
        "id": "m2MeeARftzZL"
      }
    },
    {
      "cell_type": "code",
      "source": [
        "from sklearn import linear_model\n",
        "bayes_ridge = linear_model.BayesianRidge()\n",
        "bayes_ridge.fit(X_train,Y_train)\n",
        "Y_future_BRR= bayes_ridge.predict(X_future)\n",
        "MAE_5.append(mean_absolute_error(Y_actual, Y_future_BRR))\n",
        "RMSE_5.append(math.sqrt(mean_squared_error(Y_actual, Y_future_BRR)))"
      ],
      "metadata": {
        "id": "QA9Uqmwut6M-"
      },
      "execution_count": null,
      "outputs": []
    },
    {
      "cell_type": "markdown",
      "source": [
        "#Bayesian Ridge Regression Bagging"
      ],
      "metadata": {
        "id": "9bCrEcikkOCv"
      }
    },
    {
      "cell_type": "code",
      "source": [
        "# bagging classifier\n",
        "BRR_Bagging = BaggingRegressor(base_estimator = bayes_ridge)\n",
        "BRR_Bagging.fit(X_train,Y_train)\n",
        "y_pred = BRR_Bagging.predict(X_test)\n",
        "print(\"Mean absolute error\",mean_absolute_error(Y_test, y_pred))\n",
        "print(\"Mean squared error\",mean_squared_error(Y_test, y_pred))"
      ],
      "metadata": {
        "colab": {
          "base_uri": "https://localhost:8080/"
        },
        "id": "22a9wuYzkMxg",
        "outputId": "c9591a20-7f11-4132-cda3-154a0ff92776"
      },
      "execution_count": null,
      "outputs": [
        {
          "output_type": "stream",
          "name": "stdout",
          "text": [
            "Mean absolute error 0.638037531628729\n",
            "Mean squared error 1.1824815410074785\n"
          ]
        }
      ]
    },
    {
      "cell_type": "code",
      "source": [
        "Y_future_BRR_Bagging = BRR_Bagging.predict(X_future)\n",
        "import math\n",
        "MAE_5 .append(mean_absolute_error(Y_actual, Y_future_BRR_Bagging))\n",
        "RMSE_5.append(math.sqrt(mean_squared_error(Y_actual, Y_future_BRR_Bagging)))"
      ],
      "metadata": {
        "id": "9WzFLcL2kaaW"
      },
      "execution_count": null,
      "outputs": []
    },
    {
      "cell_type": "markdown",
      "source": [
        "#AdaBoost Bayesian Ridge Regression"
      ],
      "metadata": {
        "id": "y5xCojoDuEIq"
      }
    },
    {
      "cell_type": "code",
      "source": [
        "import math\n",
        "from sklearn.metrics import mean_squared_error, mean_absolute_error\n",
        "from sklearn.ensemble import AdaBoostRegressor\n",
        "from sklearn import linear_model\n",
        "bayes_ridge = linear_model.BayesianRidge()\n",
        "ada_BRR = AdaBoostRegressor(base_estimator=bayes_ridge, learning_rate=0.01, loss = 'exponential')\n",
        "ada_BRR.fit(X_train,Y_train)\n",
        "Y_future_ada_BRR = ada_BRR.predict(X_future)\n",
        "MAE_5.append(mean_absolute_error(Y_actual, Y_future_ada_BRR ))\n",
        "RMSE_5.append(math.sqrt(mean_squared_error(Y_actual, Y_future_ada_BRR )))"
      ],
      "metadata": {
        "id": "Ro0PaUEBt6Pf"
      },
      "execution_count": null,
      "outputs": []
    },
    {
      "cell_type": "markdown",
      "source": [
        "#KNN"
      ],
      "metadata": {
        "id": "SsEMZiBbX7vg"
      }
    },
    {
      "cell_type": "code",
      "source": [
        "from sklearn.neighbors import KNeighborsRegressor\n",
        "KNN = KNeighborsRegressor()\n",
        "KNN.fit(X_train,Y_train)\n",
        "y_pred = KNN.predict(X_test)\n",
        "print(\"Mean absolute error\",mean_absolute_error(Y_test, y_pred))\n",
        "print(\"Mean squared error\",mean_squared_error(Y_test, y_pred))\n",
        "# print(\"r2 score\",r2_score(Y_test, y_pred))"
      ],
      "metadata": {
        "colab": {
          "base_uri": "https://localhost:8080/"
        },
        "id": "-8dSiGS1YA2h",
        "outputId": "1aa01af3-66fd-4af1-87c2-834d4286d070"
      },
      "execution_count": null,
      "outputs": [
        {
          "output_type": "stream",
          "name": "stdout",
          "text": [
            "Mean absolute error 0.8456958031999977\n",
            "Mean squared error 1.854893801688853\n"
          ]
        }
      ]
    },
    {
      "cell_type": "code",
      "source": [
        "Y_future_KNN = KNN.predict(X_future)\n",
        "import math\n",
        "MAE_5 .append(mean_absolute_error(Y_actual, Y_future_KNN))\n",
        "RMSE_5.append(math.sqrt(mean_squared_error(Y_actual, Y_future_KNN)))"
      ],
      "metadata": {
        "id": "NzblCmeoYA4v"
      },
      "execution_count": null,
      "outputs": []
    },
    {
      "cell_type": "markdown",
      "source": [
        "#KNN with Bagging"
      ],
      "metadata": {
        "id": "iE8W38P-l1Bd"
      }
    },
    {
      "cell_type": "code",
      "source": [
        "# bagging classifier\n",
        "KNN_Bagging = BaggingRegressor(base_estimator = KNN)\n",
        "KNN_Bagging.fit(X_train,Y_train)\n",
        "y_pred = KNN_Bagging.predict(X_test)\n",
        "print(\"Mean absolute error\",mean_absolute_error(Y_test, y_pred))\n",
        "print(\"Mean squared error\",mean_squared_error(Y_test, y_pred))"
      ],
      "metadata": {
        "colab": {
          "base_uri": "https://localhost:8080/"
        },
        "id": "MNc7iDdCYA9L",
        "outputId": "9d829959-7493-4fce-f5b6-0edbe248d6cb"
      },
      "execution_count": null,
      "outputs": [
        {
          "output_type": "stream",
          "name": "stdout",
          "text": [
            "Mean absolute error 0.8431766815199984\n",
            "Mean squared error 1.7063965488865216\n"
          ]
        }
      ]
    },
    {
      "cell_type": "code",
      "source": [
        "Y_future_KNN_Bagging = KNN_Bagging.predict(X_future)\n",
        "import math\n",
        "MAE_5 .append(mean_absolute_error(Y_actual, Y_future_KNN_Bagging))\n",
        "RMSE_5.append(math.sqrt(mean_squared_error(Y_actual, Y_future_KNN_Bagging)))"
      ],
      "metadata": {
        "id": "tq8TIv4DYA_9"
      },
      "execution_count": null,
      "outputs": []
    },
    {
      "cell_type": "markdown",
      "source": [
        "#KNN Adaboost"
      ],
      "metadata": {
        "id": "_hL0diHI2s8a"
      }
    },
    {
      "cell_type": "code",
      "source": [
        "KNN = KNeighborsRegressor()\n",
        "ada_KNN = AdaBoostRegressor(base_estimator=KNN, learning_rate=0.01, loss = 'exponential')\n",
        "ada_KNN.fit(X_train,Y_train)\n",
        "Y_future_ada_KNN = ada_KNN.predict(X_future)\n",
        "MAE_5.append(mean_absolute_error(Y_actual, Y_future_ada_KNN))\n",
        "RMSE_5.append(math.sqrt(mean_squared_error(Y_actual, Y_future_ada_KNN)))"
      ],
      "metadata": {
        "id": "AvNmdLgy2wY8"
      },
      "execution_count": null,
      "outputs": []
    },
    {
      "cell_type": "markdown",
      "source": [
        "#Random Forest"
      ],
      "metadata": {
        "id": "x0d0Y-pzl4oJ"
      }
    },
    {
      "cell_type": "code",
      "source": [
        "from sklearn.ensemble import RandomForestRegressor\n",
        "RF = RandomForestRegressor()\n",
        "RF.fit(X_train,Y_train)\n",
        "y_pred = RF.predict(X_test)\n",
        "print(\"Mean absolute error\",mean_absolute_error(Y_test, y_pred))\n",
        "print(\"Mean squared error\",mean_squared_error(Y_test, y_pred))\n",
        "# print(\"r2 score\",r2_score(Y_test, y_pred))"
      ],
      "metadata": {
        "colab": {
          "base_uri": "https://localhost:8080/"
        },
        "id": "Qs3V4dcrl8HM",
        "outputId": "53f65035-5518-4ea5-991a-5edd993cbfde"
      },
      "execution_count": null,
      "outputs": [
        {
          "output_type": "stream",
          "name": "stdout",
          "text": [
            "Mean absolute error 0.7945457576000033\n",
            "Mean squared error 1.7595335563308376\n"
          ]
        }
      ]
    },
    {
      "cell_type": "code",
      "source": [
        "Y_future_RF = RF.predict(X_future)\n",
        "import math\n",
        "MAE_5 .append(mean_absolute_error(Y_actual, Y_future_RF))\n",
        "RMSE_5.append(math.sqrt(mean_squared_error(Y_actual, Y_future_RF)))"
      ],
      "metadata": {
        "id": "kZFPJyp-mINs"
      },
      "execution_count": null,
      "outputs": []
    },
    {
      "cell_type": "markdown",
      "source": [
        "#Random Forest with Bagging"
      ],
      "metadata": {
        "id": "bRJGXsIxm78w"
      }
    },
    {
      "cell_type": "code",
      "source": [
        "# bagging classifier\n",
        "Rf_Bagging = BaggingRegressor(base_estimator = RF)\n",
        "Rf_Bagging.fit(X_train,Y_train)\n",
        "y_pred = Rf_Bagging.predict(X_test)\n",
        "print(\"Mean absolute error\",mean_absolute_error(Y_test, y_pred))\n",
        "print(\"Mean squared error\",mean_squared_error(Y_test, y_pred))"
      ],
      "metadata": {
        "colab": {
          "base_uri": "https://localhost:8080/"
        },
        "id": "-b9h97ZWmIUM",
        "outputId": "4da2f96b-906c-47e7-b575-ee02232bc7e9"
      },
      "execution_count": null,
      "outputs": [
        {
          "output_type": "stream",
          "name": "stdout",
          "text": [
            "Mean absolute error 0.8247515016199997\n",
            "Mean squared error 1.7644716089647405\n"
          ]
        }
      ]
    },
    {
      "cell_type": "code",
      "source": [
        "Y_future_Rf_Bagging = Rf_Bagging.predict(X_future)\n",
        "import math\n",
        "MAE_5 .append(mean_absolute_error(Y_actual, Y_future_Rf_Bagging))\n",
        "RMSE_5.append(math.sqrt(mean_squared_error(Y_actual, Y_future_Rf_Bagging)))"
      ],
      "metadata": {
        "id": "RCwFKsqjmIXJ"
      },
      "execution_count": null,
      "outputs": []
    },
    {
      "cell_type": "markdown",
      "source": [
        "# Random Forest AdaBoost"
      ],
      "metadata": {
        "id": "KucMOM7euWd_"
      }
    },
    {
      "cell_type": "code",
      "source": [
        "import math\n",
        "from sklearn.metrics import mean_squared_error, mean_absolute_error\n",
        "from sklearn.ensemble import AdaBoostRegressor\n",
        "from sklearn.ensemble import RandomForestRegressor\n",
        "RF= RandomForestRegressor(max_depth=7)\n",
        "ada_RF = AdaBoostRegressor(base_estimator=RF, learning_rate=0.01, loss = 'exponential')\n",
        "ada_RF.fit(X_train,Y_train)\n",
        "Y_future_ada_RF = ada_RF.predict(X_future)\n",
        "MAE_5.append(mean_absolute_error(Y_actual, Y_future_ada_RF ))\n",
        "RMSE_5.append(math.sqrt(mean_squared_error(Y_actual, Y_future_ada_RF)))"
      ],
      "metadata": {
        "id": "Neeo2wlkuarD"
      },
      "execution_count": null,
      "outputs": []
    },
    {
      "cell_type": "code",
      "metadata": {
        "colab": {
          "base_uri": "https://localhost:8080/",
          "height": 341
        },
        "id": "vFnAEklyqoGg",
        "outputId": "5a949142-4550-41bd-8304-f8e30b1ab796"
      },
      "source": [
        "plt.figure(figsize=(25,5))\n",
        "plt.title('Predicting Closing values of Stock using methodology 1')\n",
        "plt.xlabel('10 Days in future')\n",
        "plt.ylabel('Closing Price USD ($)')\n",
        "plt.plot(Y_actual, label= 'Actual Close')\n",
        "plt.plot(Y_actual.index, Y_future_LR, label = 'LR Predicted Close',ls='--')\n",
        "plt.plot(Y_actual.index, Y_future_LR_Bagging, label = 'LR Predicted Close Bagging',ls='--')\n",
        "plt.plot(Y_actual.index, Y_future_ada_LR, label = 'LR Predicted Close AdaBoost',ls='--')\n",
        "plt.plot(Y_actual.index, Y_future_SV, label = 'SVR Predicted Close',ls='dotted')\n",
        "plt.plot(Y_actual.index, Y_future_SVM, label = 'SVR Predicted Close Bagging',ls='dotted')\n",
        "plt.plot(Y_actual.index, Y_future_ada_SV, label = 'SVR Predicted Close Ada Boost',ls='dotted')\n",
        "plt.plot(Y_actual.index, Y_future_DTR, label = 'DTR Predicted Close',ls=':')\n",
        "plt.plot(Y_actual.index, Y_future_DTR_Bagging, label = 'DTR Predicted Close Bagging',ls=':')\n",
        "plt.plot(Y_actual.index, Y_future_ada_DTR, label = 'DTR Predicted Close Ada Boost',ls=':')\n",
        "plt.plot(Y_actual.index, Y_future_BRR, label = 'DTR Predicted Close',ls='-.')\n",
        "plt.plot(Y_actual.index, Y_future_BRR_Bagging, label = 'BRR Predicted Close Bagging',ls='-.')\n",
        "plt.plot(Y_actual.index, Y_future_ada_BRR, label = 'BRR Predicted Close Ada Boost',ls='-.')\n",
        "plt.plot(Y_actual.index, Y_future_KNN, label = 'KNN Predicted Close',ls='dotted')\n",
        "plt.plot(Y_actual.index, Y_future_KNN_Bagging, label = 'KNN Predicted Close Bagging',ls='dotted')\n",
        "plt.plot(Y_actual.index, Y_future_ada_KNN, label = 'KNN Predicted Close Ada Boost',ls='dotted')\n",
        "plt.plot(Y_actual.index, Y_future_RF, label = 'Random Forest Predicted Close',ls='-')\n",
        "plt.plot(Y_actual.index, Y_future_Rf_Bagging, label = 'Random Forest Predicted Close Bagging',ls='')\n",
        "plt.plot(Y_actual.index, Y_future_ada_RF, label = 'Random Forest Predicted Close Ada Boost',ls='-')\n",
        "plt.legend()\n",
        "plt.show()"
      ],
      "execution_count": null,
      "outputs": [
        {
          "output_type": "display_data",
          "data": {
            "image/png": "[encoded data removed]",
            "text/plain": [
              "<Figure size 1800x360 with 1 Axes>"
            ]
          },
          "metadata": {
            "needs_background": "light"
          }
        }
      ]
    },
    {
      "cell_type": "code",
      "metadata": {
        "id": "a_iQInXDqoAS"
      },
      "source": [
        "Table_1 = pd.DataFrame()\n",
        "Algorithm = ['Linear Regression', 'Linear Regression Bagging','Linear Regression Ada Boost' ,'Support Vector Regression','Support Vector Regression Bagging','Support Vector Machine Adaboost' , 'Decision Tree Regression','Decision Tree Regression Bagging','Decision Tree Adaboost','Bayesian Ridge Regression','BRR with Bagging','Ada boost BRR','KNN','KNN Bagging','KNN Ada Boost','Random Forest','Random Forest with Bagging','Random Forest Ada Boost']\n",
        "Table_1['Algorithm'] = pd.Series(Algorithm)\n",
        "Table_1['MAE']= pd.Series(MAE_5)\n",
        "Table_1['RMSE'] = pd.Series(RMSE_5)\n",
        "#'Linear-SVR', 'Linear-Linear', 'Linear-DTR']"
      ],
      "execution_count": null,
      "outputs": []
    },
    {
      "cell_type": "code",
      "source": [
        "Table_1"
      ],
      "metadata": {
        "colab": {
          "base_uri": "https://localhost:8080/",
          "height": 614
        },
        "id": "x-YhWp5zDwSb",
        "outputId": "4aebcad9-65a7-48df-924c-25c42ce512a3"
      },
      "execution_count": null,
      "outputs": [
        {
          "output_type": "execute_result",
          "data": {
            "text/html": [
              "<div>\n",
              "<style scoped>\n",
              "    .dataframe tbody tr th:only-of-type {\n",
              "        vertical-align: middle;\n",
              "    }\n",
              "\n",
              "    .dataframe tbody tr th {\n",
              "        vertical-align: top;\n",
              "    }\n",
              "\n",
              "    .dataframe thead th {\n",
              "        text-align: right;\n",
              "    }\n",
              "</style>\n",
              "<table border=\"1\" class=\"dataframe\">\n",
              "  <thead>\n",
              "    <tr style=\"text-align: right;\">\n",
              "      <th></th>\n",
              "      <th>Algorithm</th>\n",
              "      <th>MAE</th>\n",
              "      <th>RMSE</th>\n",
              "    </tr>\n",
              "  </thead>\n",
              "  <tbody>\n",
              "    <tr>\n",
              "      <th>0</th>\n",
              "      <td>Linear Regression</td>\n",
              "      <td>1.063081</td>\n",
              "      <td>1.253882</td>\n",
              "    </tr>\n",
              "    <tr>\n",
              "      <th>1</th>\n",
              "      <td>Linear Regression Bagging</td>\n",
              "      <td>1.062837</td>\n",
              "      <td>1.253894</td>\n",
              "    </tr>\n",
              "    <tr>\n",
              "      <th>2</th>\n",
              "      <td>Linear Regression Ada Boost</td>\n",
              "      <td>1.079758</td>\n",
              "      <td>1.274786</td>\n",
              "    </tr>\n",
              "    <tr>\n",
              "      <th>3</th>\n",
              "      <td>Support Vector Regression</td>\n",
              "      <td>52.536876</td>\n",
              "      <td>53.502907</td>\n",
              "    </tr>\n",
              "    <tr>\n",
              "      <th>4</th>\n",
              "      <td>Support Vector Regression Bagging</td>\n",
              "      <td>52.725477</td>\n",
              "      <td>53.678954</td>\n",
              "    </tr>\n",
              "    <tr>\n",
              "      <th>5</th>\n",
              "      <td>Support Vector Machine Adaboost</td>\n",
              "      <td>3.847559</td>\n",
              "      <td>4.164768</td>\n",
              "    </tr>\n",
              "    <tr>\n",
              "      <th>6</th>\n",
              "      <td>Decision Tree Regression</td>\n",
              "      <td>2.551712</td>\n",
              "      <td>2.852557</td>\n",
              "    </tr>\n",
              "    <tr>\n",
              "      <th>7</th>\n",
              "      <td>Decision Tree Regression Bagging</td>\n",
              "      <td>2.563249</td>\n",
              "      <td>3.146429</td>\n",
              "    </tr>\n",
              "    <tr>\n",
              "      <th>8</th>\n",
              "      <td>Decision Tree Adaboost</td>\n",
              "      <td>2.434119</td>\n",
              "      <td>2.665010</td>\n",
              "    </tr>\n",
              "    <tr>\n",
              "      <th>9</th>\n",
              "      <td>Bayesian Ridge Regression</td>\n",
              "      <td>1.063885</td>\n",
              "      <td>1.255083</td>\n",
              "    </tr>\n",
              "    <tr>\n",
              "      <th>10</th>\n",
              "      <td>BRR with Bagging</td>\n",
              "      <td>1.074897</td>\n",
              "      <td>1.268654</td>\n",
              "    </tr>\n",
              "    <tr>\n",
              "      <th>11</th>\n",
              "      <td>Ada boost BRR</td>\n",
              "      <td>1.070714</td>\n",
              "      <td>1.265977</td>\n",
              "    </tr>\n",
              "    <tr>\n",
              "      <th>12</th>\n",
              "      <td>KNN</td>\n",
              "      <td>2.104802</td>\n",
              "      <td>2.530427</td>\n",
              "    </tr>\n",
              "    <tr>\n",
              "      <th>13</th>\n",
              "      <td>KNN Bagging</td>\n",
              "      <td>2.058343</td>\n",
              "      <td>2.509250</td>\n",
              "    </tr>\n",
              "    <tr>\n",
              "      <th>14</th>\n",
              "      <td>KNN Ada Boost</td>\n",
              "      <td>2.061803</td>\n",
              "      <td>2.404087</td>\n",
              "    </tr>\n",
              "    <tr>\n",
              "      <th>15</th>\n",
              "      <td>Random Forest</td>\n",
              "      <td>2.369881</td>\n",
              "      <td>2.770339</td>\n",
              "    </tr>\n",
              "    <tr>\n",
              "      <th>16</th>\n",
              "      <td>Random Forest with Bagging</td>\n",
              "      <td>2.263346</td>\n",
              "      <td>2.688385</td>\n",
              "    </tr>\n",
              "    <tr>\n",
              "      <th>17</th>\n",
              "      <td>Random Forest Ada Boost</td>\n",
              "      <td>2.277141</td>\n",
              "      <td>2.681954</td>\n",
              "    </tr>\n",
              "  </tbody>\n",
              "</table>\n",
              "</div>"
            ],
            "text/plain": [
              "                            Algorithm        MAE       RMSE\n",
              "0                   Linear Regression   1.063081   1.253882\n",
              "1           Linear Regression Bagging   1.062837   1.253894\n",
              "2         Linear Regression Ada Boost   1.079758   1.274786\n",
              "3           Support Vector Regression  52.536876  53.502907\n",
              "4   Support Vector Regression Bagging  52.725477  53.678954\n",
              "5     Support Vector Machine Adaboost   3.847559   4.164768\n",
              "6            Decision Tree Regression   2.551712   2.852557\n",
              "7    Decision Tree Regression Bagging   2.563249   3.146429\n",
              "8              Decision Tree Adaboost   2.434119   2.665010\n",
              "9           Bayesian Ridge Regression   1.063885   1.255083\n",
              "10                   BRR with Bagging   1.074897   1.268654\n",
              "11                      Ada boost BRR   1.070714   1.265977\n",
              "12                                KNN   2.104802   2.530427\n",
              "13                        KNN Bagging   2.058343   2.509250\n",
              "14                      KNN Ada Boost   2.061803   2.404087\n",
              "15                      Random Forest   2.369881   2.770339\n",
              "16         Random Forest with Bagging   2.263346   2.688385\n",
              "17            Random Forest Ada Boost   2.277141   2.681954"
            ]
          },
          "metadata": {},
          "execution_count": 131
        }
      ]
    },
    {
      "cell_type": "code",
      "metadata": {
        "id": "D0rOB14qmTn1"
      },
      "source": [
        "Table_1.to_csv('/content/drive/MyDrive/ML project/Naive-20.csv')"
      ],
      "execution_count": null,
      "outputs": []
    },
    {
      "cell_type": "code",
      "metadata": {
        "id": "VgPzxUDkk2L8",
        "colab": {
          "base_uri": "https://localhost:8080/",
          "height": 505
        },
        "outputId": "c1c98315-9337-490c-ba73-a8e467477a53"
      },
      "source": [
        "from pandas.plotting import table\n",
        "ax = plt.figure(figsize=(30,6))\n",
        "ax = plt.subplot(111, frame_on=False)\n",
        "ax.xaxis.set_visible(False)\n",
        "ax.yaxis.set_visible(False)\n",
        "table(ax, Table_1)\n"
      ],
      "execution_count": null,
      "outputs": [
        {
          "output_type": "execute_result",
          "data": {
            "text/plain": [
              "<matplotlib.table.Table at 0x7f0767e396d0>"
            ]
          },
          "metadata": {},
          "execution_count": 133
        },
        {
          "output_type": "display_data",
          "data": {
            "image/png": "[encoded data removed]",
            "text/plain": [
              "<Figure size 2160x432 with 1 Axes>"
            ]
          },
          "metadata": {
            "needs_background": "light"
          }
        }
      ]
    },
    {
      "cell_type": "markdown",
      "metadata": {
        "id": "ELR05D49WKcW"
      },
      "source": [
        "Springer paper\n",
        "https://journalofbigdata.springeropen.com/articles/10.1186/s40537-020-00333-6"
      ]
    },
    {
      "cell_type": "code",
      "metadata": {
        "id": "0xpCoS0PWPnm"
      },
      "source": [
        "MSFT_copy = MSFT.copy()\n",
        "MSFT_copy['EMA_close'] = MSFT_copy['Close'].ewm(span = 10, adjust = False).mean()\n",
        "MSFT_copy = MSFT_copy.drop(['Adj Close','Volume'], axis =1)"
      ],
      "execution_count": null,
      "outputs": []
    },
    {
      "cell_type": "code",
      "metadata": {
        "id": "pdngX5-DN2MJ"
      },
      "source": [
        "MSFT_copy['SMA_10 Close'] = MSFT_copy['Close'].rolling(window=10).mean()\n",
        "MSFT_copy = MSFT_copy[10:]\n"
      ],
      "execution_count": null,
      "outputs": []
    },
    {
      "cell_type": "code",
      "metadata": {
        "colab": {
          "base_uri": "https://localhost:8080/",
          "height": 424
        },
        "id": "egTUDglbljfV",
        "outputId": "bad08fc6-bf6a-4947-8b5a-eb70917ce729"
      },
      "source": [
        "MSFT_copy"
      ],
      "execution_count": null,
      "outputs": [
        {
          "output_type": "execute_result",
          "data": {
            "text/html": [
              "<div>\n",
              "<style scoped>\n",
              "    .dataframe tbody tr th:only-of-type {\n",
              "        vertical-align: middle;\n",
              "    }\n",
              "\n",
              "    .dataframe tbody tr th {\n",
              "        vertical-align: top;\n",
              "    }\n",
              "\n",
              "    .dataframe thead th {\n",
              "        text-align: right;\n",
              "    }\n",
              "</style>\n",
              "<table border=\"1\" class=\"dataframe\">\n",
              "  <thead>\n",
              "    <tr style=\"text-align: right;\">\n",
              "      <th></th>\n",
              "      <th>Date</th>\n",
              "      <th>Open</th>\n",
              "      <th>High</th>\n",
              "      <th>Low</th>\n",
              "      <th>Close</th>\n",
              "      <th>EMA_close</th>\n",
              "      <th>SMA_10 Close</th>\n",
              "    </tr>\n",
              "  </thead>\n",
              "  <tbody>\n",
              "    <tr>\n",
              "      <th>10</th>\n",
              "      <td>2016-10-17</td>\n",
              "      <td>57.360001</td>\n",
              "      <td>57.459999</td>\n",
              "      <td>56.869999</td>\n",
              "      <td>57.220001</td>\n",
              "      <td>57.352162</td>\n",
              "      <td>57.432000</td>\n",
              "    </tr>\n",
              "    <tr>\n",
              "      <th>11</th>\n",
              "      <td>2016-10-18</td>\n",
              "      <td>57.529999</td>\n",
              "      <td>57.950001</td>\n",
              "      <td>57.410000</td>\n",
              "      <td>57.660000</td>\n",
              "      <td>57.408132</td>\n",
              "      <td>57.474000</td>\n",
              "    </tr>\n",
              "    <tr>\n",
              "      <th>12</th>\n",
              "      <td>2016-10-19</td>\n",
              "      <td>57.470001</td>\n",
              "      <td>57.840000</td>\n",
              "      <td>57.400002</td>\n",
              "      <td>57.529999</td>\n",
              "      <td>57.430290</td>\n",
              "      <td>57.463000</td>\n",
              "    </tr>\n",
              "    <tr>\n",
              "      <th>13</th>\n",
              "      <td>2016-10-20</td>\n",
              "      <td>57.500000</td>\n",
              "      <td>57.520000</td>\n",
              "      <td>56.660000</td>\n",
              "      <td>57.250000</td>\n",
              "      <td>57.397510</td>\n",
              "      <td>57.414000</td>\n",
              "    </tr>\n",
              "    <tr>\n",
              "      <th>14</th>\n",
              "      <td>2016-10-21</td>\n",
              "      <td>60.279999</td>\n",
              "      <td>60.450001</td>\n",
              "      <td>59.490002</td>\n",
              "      <td>59.660000</td>\n",
              "      <td>57.808872</td>\n",
              "      <td>57.600000</td>\n",
              "    </tr>\n",
              "    <tr>\n",
              "      <th>...</th>\n",
              "      <td>...</td>\n",
              "      <td>...</td>\n",
              "      <td>...</td>\n",
              "      <td>...</td>\n",
              "      <td>...</td>\n",
              "      <td>...</td>\n",
              "      <td>...</td>\n",
              "    </tr>\n",
              "    <tr>\n",
              "      <th>1254</th>\n",
              "      <td>2021-09-27</td>\n",
              "      <td>296.140015</td>\n",
              "      <td>296.470001</td>\n",
              "      <td>292.940002</td>\n",
              "      <td>294.170013</td>\n",
              "      <td>298.065589</td>\n",
              "      <td>299.045999</td>\n",
              "    </tr>\n",
              "    <tr>\n",
              "      <th>1255</th>\n",
              "      <td>2021-09-28</td>\n",
              "      <td>289.799988</td>\n",
              "      <td>290.779999</td>\n",
              "      <td>282.750000</td>\n",
              "      <td>283.519989</td>\n",
              "      <td>295.420935</td>\n",
              "      <td>297.418997</td>\n",
              "    </tr>\n",
              "    <tr>\n",
              "      <th>1256</th>\n",
              "      <td>2021-09-29</td>\n",
              "      <td>285.100006</td>\n",
              "      <td>286.769989</td>\n",
              "      <td>283.010010</td>\n",
              "      <td>284.000000</td>\n",
              "      <td>293.344401</td>\n",
              "      <td>295.336996</td>\n",
              "    </tr>\n",
              "    <tr>\n",
              "      <th>1257</th>\n",
              "      <td>2021-09-30</td>\n",
              "      <td>285.709991</td>\n",
              "      <td>287.829987</td>\n",
              "      <td>281.619995</td>\n",
              "      <td>281.920013</td>\n",
              "      <td>291.267240</td>\n",
              "      <td>293.006998</td>\n",
              "    </tr>\n",
              "    <tr>\n",
              "      <th>1258</th>\n",
              "      <td>2021-10-01</td>\n",
              "      <td>282.121704</td>\n",
              "      <td>289.980011</td>\n",
              "      <td>281.309998</td>\n",
              "      <td>289.100006</td>\n",
              "      <td>290.873197</td>\n",
              "      <td>291.929999</td>\n",
              "    </tr>\n",
              "  </tbody>\n",
              "</table>\n",
              "<p>1249 rows × 7 columns</p>\n",
              "</div>"
            ],
            "text/plain": [
              "            Date        Open        High  ...       Close   EMA_close  SMA_10 Close\n",
              "10    2016-10-17   57.360001   57.459999  ...   57.220001   57.352162     57.432000\n",
              "11    2016-10-18   57.529999   57.950001  ...   57.660000   57.408132     57.474000\n",
              "12    2016-10-19   57.470001   57.840000  ...   57.529999   57.430290     57.463000\n",
              "13    2016-10-20   57.500000   57.520000  ...   57.250000   57.397510     57.414000\n",
              "14    2016-10-21   60.279999   60.450001  ...   59.660000   57.808872     57.600000\n",
              "...          ...         ...         ...  ...         ...         ...           ...\n",
              "1254  2021-09-27  296.140015  296.470001  ...  294.170013  298.065589    299.045999\n",
              "1255  2021-09-28  289.799988  290.779999  ...  283.519989  295.420935    297.418997\n",
              "1256  2021-09-29  285.100006  286.769989  ...  284.000000  293.344401    295.336996\n",
              "1257  2021-09-30  285.709991  287.829987  ...  281.920013  291.267240    293.006998\n",
              "1258  2021-10-01  282.121704  289.980011  ...  289.100006  290.873197    291.929999\n",
              "\n",
              "[1249 rows x 7 columns]"
            ]
          },
          "metadata": {},
          "execution_count": 136
        }
      ]
    },
    {
      "cell_type": "code",
      "metadata": {
        "id": "gR02gVzekcTa"
      },
      "source": [
        "MSFT_copy = MSFT_copy.set_index(np.arange(MSFT_copy.shape[0]))\n"
      ],
      "execution_count": null,
      "outputs": []
    },
    {
      "cell_type": "code",
      "metadata": {
        "id": "N_bsM39T0aa9"
      },
      "source": [
        "n=20\n",
        "Y_actual_Close = MSFT_copy[['Close']][-n:]\n",
        "MSFT_copy['New Date']= MSFT_copy['Date']\n",
        "Y_actual_Close = Y_actual_Close.set_index(MSFT_copy['New Date'][-n:])\n",
        "\n",
        "# Y_actual = MSFT_copy[['Close']][-n:]\n",
        "# Y_actual = Y_actual.set_index(MSFT_copy['New Date'][-n:])\n"
      ],
      "execution_count": null,
      "outputs": []
    },
    {
      "cell_type": "code",
      "metadata": {
        "colab": {
          "base_uri": "https://localhost:8080/",
          "height": 36
        },
        "id": "5oauGayx0jGV",
        "outputId": "2755c2ab-653c-434d-9112-ed06f2630f64"
      },
      "source": [
        "Y_actual_Close.index[0]"
      ],
      "execution_count": null,
      "outputs": [
        {
          "output_type": "execute_result",
          "data": {
            "application/vnd.google.colaboratory.intrinsic+json": {
              "type": "string"
            },
            "text/plain": [
              "'2021-09-20'"
            ]
          },
          "metadata": {},
          "execution_count": 139
        }
      ]
    },
    {
      "cell_type": "code",
      "metadata": {
        "id": "tFvuG9WjRoz9"
      },
      "source": [
        "#n represents no of days in future for which we are predicting\n",
        "# n = 3\n",
        "\n",
        "MSFT_copy['Date'] = pd.to_datetime(MSFT_copy['Date'])\n",
        "MSFT_copy['Day'] = MSFT_copy['Date'].dt.day\n",
        "MSFT_copy['Month'] = MSFT_copy['Date'].dt.month\n",
        "MSFT_copy['Year'] = MSFT_copy['Date'].dt.year\n",
        "MSFT_copy['Day of week']= MSFT_copy['Date'].dt.dayofweek\n",
        "MSFT_copy['Day of year']= MSFT_copy['Date'].dt.dayofyear\n",
        "MSFT_copy['Is month start']= MSFT_copy['Date'].dt.is_month_start\n",
        "MSFT_copy['Is month end']= MSFT_copy['Date'].dt.is_month_end\n",
        "MSFT_copy['Quarter'] = MSFT_copy['Date'].dt.quarter\n",
        "MSFT_copy['Is Quarter start']= MSFT_copy['Date'].dt.is_quarter_start\n",
        "MSFT_copy['Is Quarter end']= MSFT_copy['Date'].dt.is_quarter_end\n",
        "MSFT_copy['Is year start']= MSFT_copy['Date'].dt.is_year_start\n",
        "MSFT_copy['Is year end']= MSFT_copy['Date'].dt.is_year_end\n",
        "\n",
        "#use this for predicting n days in future\n",
        "X_future= MSFT_copy.drop(['Date', 'EMA_close', 'Open', 'High', 'Low', 'Close', 'SMA_10 Close', 'New Date'], axis =1)[-n:]\n",
        "Y_actual = MSFT_copy['EMA_close'][-n:]\n",
        "# Y_actual = Y_actual.set_index(MSFT_copy['New Date'][-n:])\n",
        "Y_actual_SMA= MSFT_copy['SMA_10 Close'][-n:]\n",
        "# Y_actual_SMA = Y_actual_SMA.set_index(MSFT_copy['New Date'][-n:])\n",
        "\n",
        "\n",
        "\n",
        "\n",
        "# # use this as X_train and test\n",
        "# X= MSFT_copy['Date'][:-n]\n",
        "X= MSFT_copy.drop(['Date', 'EMA_close', 'Open', 'High', 'Low', 'Close', 'SMA_10 Close', 'New Date'], axis =1)[:-n]\n",
        "y = MSFT_copy['EMA_close'][:-n] #use this as Y_train/test\n",
        "y_SMA = MSFT_copy['SMA_10 Close'][:-n]\n",
        "y_close = MSFT['Close'][:-n]\n",
        "\n",
        "#Reshaping as X has only one feature\n",
        "# X = np.array(X)\n",
        "# X = X.reshape(-1,1)\n",
        "# X_future = np.array(X_future)\n",
        "# X_future = X_future.reshape(-1,1)\n",
        "#splitting dataset\n",
        "\n",
        "from sklearn.model_selection import train_test_split\n",
        "X_train, X_test, Y_train, Y_test = train_test_split(X, y, test_size=0.2, random_state=0) #cross validation\n",
        "X_train_SMA, X_test_SMA, Y_train_SMA, Y_test_SMA = train_test_split(X, y_SMA, test_size=0.2, random_state=0) #cross validation\n",
        "X_train_close, X_test_close, Y_train_close, Y_test_close = train_test_split(X, y_SMA, test_size=0.2, random_state=0)"
      ],
      "execution_count": null,
      "outputs": []
    },
    {
      "cell_type": "code",
      "metadata": {
        "colab": {
          "base_uri": "https://localhost:8080/",
          "height": 424
        },
        "id": "3Eo0TAGYNhl1",
        "outputId": "d60c2d82-8bc7-451f-8734-e59ffc21cc27"
      },
      "source": [
        "X_train_SMA"
      ],
      "execution_count": null,
      "outputs": [
        {
          "output_type": "execute_result",
          "data": {
            "text/html": [
              "<div>\n",
              "<style scoped>\n",
              "    .dataframe tbody tr th:only-of-type {\n",
              "        vertical-align: middle;\n",
              "    }\n",
              "\n",
              "    .dataframe tbody tr th {\n",
              "        vertical-align: top;\n",
              "    }\n",
              "\n",
              "    .dataframe thead th {\n",
              "        text-align: right;\n",
              "    }\n",
              "</style>\n",
              "<table border=\"1\" class=\"dataframe\">\n",
              "  <thead>\n",
              "    <tr style=\"text-align: right;\">\n",
              "      <th></th>\n",
              "      <th>Day</th>\n",
              "      <th>Month</th>\n",
              "      <th>Year</th>\n",
              "      <th>Day of week</th>\n",
              "      <th>Day of year</th>\n",
              "      <th>Is month start</th>\n",
              "      <th>Is month end</th>\n",
              "      <th>Quarter</th>\n",
              "      <th>Is Quarter start</th>\n",
              "      <th>Is Quarter end</th>\n",
              "      <th>Is year start</th>\n",
              "      <th>Is year end</th>\n",
              "    </tr>\n",
              "  </thead>\n",
              "  <tbody>\n",
              "    <tr>\n",
              "      <th>1190</th>\n",
              "      <td>12</td>\n",
              "      <td>7</td>\n",
              "      <td>2021</td>\n",
              "      <td>0</td>\n",
              "      <td>193</td>\n",
              "      <td>False</td>\n",
              "      <td>False</td>\n",
              "      <td>3</td>\n",
              "      <td>False</td>\n",
              "      <td>False</td>\n",
              "      <td>False</td>\n",
              "      <td>False</td>\n",
              "    </tr>\n",
              "    <tr>\n",
              "      <th>567</th>\n",
              "      <td>18</td>\n",
              "      <td>1</td>\n",
              "      <td>2019</td>\n",
              "      <td>4</td>\n",
              "      <td>18</td>\n",
              "      <td>False</td>\n",
              "      <td>False</td>\n",
              "      <td>1</td>\n",
              "      <td>False</td>\n",
              "      <td>False</td>\n",
              "      <td>False</td>\n",
              "      <td>False</td>\n",
              "    </tr>\n",
              "    <tr>\n",
              "      <th>787</th>\n",
              "      <td>3</td>\n",
              "      <td>12</td>\n",
              "      <td>2019</td>\n",
              "      <td>1</td>\n",
              "      <td>337</td>\n",
              "      <td>False</td>\n",
              "      <td>False</td>\n",
              "      <td>4</td>\n",
              "      <td>False</td>\n",
              "      <td>False</td>\n",
              "      <td>False</td>\n",
              "      <td>False</td>\n",
              "    </tr>\n",
              "    <tr>\n",
              "      <th>406</th>\n",
              "      <td>30</td>\n",
              "      <td>5</td>\n",
              "      <td>2018</td>\n",
              "      <td>2</td>\n",
              "      <td>150</td>\n",
              "      <td>False</td>\n",
              "      <td>False</td>\n",
              "      <td>2</td>\n",
              "      <td>False</td>\n",
              "      <td>False</td>\n",
              "      <td>False</td>\n",
              "      <td>False</td>\n",
              "    </tr>\n",
              "    <tr>\n",
              "      <th>985</th>\n",
              "      <td>16</td>\n",
              "      <td>9</td>\n",
              "      <td>2020</td>\n",
              "      <td>2</td>\n",
              "      <td>260</td>\n",
              "      <td>False</td>\n",
              "      <td>False</td>\n",
              "      <td>3</td>\n",
              "      <td>False</td>\n",
              "      <td>False</td>\n",
              "      <td>False</td>\n",
              "      <td>False</td>\n",
              "    </tr>\n",
              "    <tr>\n",
              "      <th>...</th>\n",
              "      <td>...</td>\n",
              "      <td>...</td>\n",
              "      <td>...</td>\n",
              "      <td>...</td>\n",
              "      <td>...</td>\n",
              "      <td>...</td>\n",
              "      <td>...</td>\n",
              "      <td>...</td>\n",
              "      <td>...</td>\n",
              "      <td>...</td>\n",
              "      <td>...</td>\n",
              "      <td>...</td>\n",
              "    </tr>\n",
              "    <tr>\n",
              "      <th>763</th>\n",
              "      <td>29</td>\n",
              "      <td>10</td>\n",
              "      <td>2019</td>\n",
              "      <td>1</td>\n",
              "      <td>302</td>\n",
              "      <td>False</td>\n",
              "      <td>False</td>\n",
              "      <td>4</td>\n",
              "      <td>False</td>\n",
              "      <td>False</td>\n",
              "      <td>False</td>\n",
              "      <td>False</td>\n",
              "    </tr>\n",
              "    <tr>\n",
              "      <th>835</th>\n",
              "      <td>12</td>\n",
              "      <td>2</td>\n",
              "      <td>2020</td>\n",
              "      <td>2</td>\n",
              "      <td>43</td>\n",
              "      <td>False</td>\n",
              "      <td>False</td>\n",
              "      <td>1</td>\n",
              "      <td>False</td>\n",
              "      <td>False</td>\n",
              "      <td>False</td>\n",
              "      <td>False</td>\n",
              "    </tr>\n",
              "    <tr>\n",
              "      <th>1216</th>\n",
              "      <td>17</td>\n",
              "      <td>8</td>\n",
              "      <td>2021</td>\n",
              "      <td>1</td>\n",
              "      <td>229</td>\n",
              "      <td>False</td>\n",
              "      <td>False</td>\n",
              "      <td>3</td>\n",
              "      <td>False</td>\n",
              "      <td>False</td>\n",
              "      <td>False</td>\n",
              "      <td>False</td>\n",
              "    </tr>\n",
              "    <tr>\n",
              "      <th>559</th>\n",
              "      <td>8</td>\n",
              "      <td>1</td>\n",
              "      <td>2019</td>\n",
              "      <td>1</td>\n",
              "      <td>8</td>\n",
              "      <td>False</td>\n",
              "      <td>False</td>\n",
              "      <td>1</td>\n",
              "      <td>False</td>\n",
              "      <td>False</td>\n",
              "      <td>False</td>\n",
              "      <td>False</td>\n",
              "    </tr>\n",
              "    <tr>\n",
              "      <th>684</th>\n",
              "      <td>9</td>\n",
              "      <td>7</td>\n",
              "      <td>2019</td>\n",
              "      <td>1</td>\n",
              "      <td>190</td>\n",
              "      <td>False</td>\n",
              "      <td>False</td>\n",
              "      <td>3</td>\n",
              "      <td>False</td>\n",
              "      <td>False</td>\n",
              "      <td>False</td>\n",
              "      <td>False</td>\n",
              "    </tr>\n",
              "  </tbody>\n",
              "</table>\n",
              "<p>991 rows × 12 columns</p>\n",
              "</div>"
            ],
            "text/plain": [
              "      Day  Month  Year  ...  Is Quarter end  Is year start  Is year end\n",
              "1190   12      7  2021  ...           False          False        False\n",
              "567    18      1  2019  ...           False          False        False\n",
              "787     3     12  2019  ...           False          False        False\n",
              "406    30      5  2018  ...           False          False        False\n",
              "985    16      9  2020  ...           False          False        False\n",
              "...   ...    ...   ...  ...             ...            ...          ...\n",
              "763    29     10  2019  ...           False          False        False\n",
              "835    12      2  2020  ...           False          False        False\n",
              "1216   17      8  2021  ...           False          False        False\n",
              "559     8      1  2019  ...           False          False        False\n",
              "684     9      7  2019  ...           False          False        False\n",
              "\n",
              "[991 rows x 12 columns]"
            ]
          },
          "metadata": {},
          "execution_count": 141
        }
      ]
    },
    {
      "cell_type": "code",
      "metadata": {
        "colab": {
          "base_uri": "https://localhost:8080/",
          "height": 424
        },
        "id": "agDk6aI4NcsY",
        "outputId": "69508270-7615-4c16-a5be-6686380667a2"
      },
      "source": [
        "X_train_close"
      ],
      "execution_count": null,
      "outputs": [
        {
          "output_type": "execute_result",
          "data": {
            "text/html": [
              "<div>\n",
              "<style scoped>\n",
              "    .dataframe tbody tr th:only-of-type {\n",
              "        vertical-align: middle;\n",
              "    }\n",
              "\n",
              "    .dataframe tbody tr th {\n",
              "        vertical-align: top;\n",
              "    }\n",
              "\n",
              "    .dataframe thead th {\n",
              "        text-align: right;\n",
              "    }\n",
              "</style>\n",
              "<table border=\"1\" class=\"dataframe\">\n",
              "  <thead>\n",
              "    <tr style=\"text-align: right;\">\n",
              "      <th></th>\n",
              "      <th>Day</th>\n",
              "      <th>Month</th>\n",
              "      <th>Year</th>\n",
              "      <th>Day of week</th>\n",
              "      <th>Day of year</th>\n",
              "      <th>Is month start</th>\n",
              "      <th>Is month end</th>\n",
              "      <th>Quarter</th>\n",
              "      <th>Is Quarter start</th>\n",
              "      <th>Is Quarter end</th>\n",
              "      <th>Is year start</th>\n",
              "      <th>Is year end</th>\n",
              "    </tr>\n",
              "  </thead>\n",
              "  <tbody>\n",
              "    <tr>\n",
              "      <th>1190</th>\n",
              "      <td>12</td>\n",
              "      <td>7</td>\n",
              "      <td>2021</td>\n",
              "      <td>0</td>\n",
              "      <td>193</td>\n",
              "      <td>False</td>\n",
              "      <td>False</td>\n",
              "      <td>3</td>\n",
              "      <td>False</td>\n",
              "      <td>False</td>\n",
              "      <td>False</td>\n",
              "      <td>False</td>\n",
              "    </tr>\n",
              "    <tr>\n",
              "      <th>567</th>\n",
              "      <td>18</td>\n",
              "      <td>1</td>\n",
              "      <td>2019</td>\n",
              "      <td>4</td>\n",
              "      <td>18</td>\n",
              "      <td>False</td>\n",
              "      <td>False</td>\n",
              "      <td>1</td>\n",
              "      <td>False</td>\n",
              "      <td>False</td>\n",
              "      <td>False</td>\n",
              "      <td>False</td>\n",
              "    </tr>\n",
              "    <tr>\n",
              "      <th>787</th>\n",
              "      <td>3</td>\n",
              "      <td>12</td>\n",
              "      <td>2019</td>\n",
              "      <td>1</td>\n",
              "      <td>337</td>\n",
              "      <td>False</td>\n",
              "      <td>False</td>\n",
              "      <td>4</td>\n",
              "      <td>False</td>\n",
              "      <td>False</td>\n",
              "      <td>False</td>\n",
              "      <td>False</td>\n",
              "    </tr>\n",
              "    <tr>\n",
              "      <th>406</th>\n",
              "      <td>30</td>\n",
              "      <td>5</td>\n",
              "      <td>2018</td>\n",
              "      <td>2</td>\n",
              "      <td>150</td>\n",
              "      <td>False</td>\n",
              "      <td>False</td>\n",
              "      <td>2</td>\n",
              "      <td>False</td>\n",
              "      <td>False</td>\n",
              "      <td>False</td>\n",
              "      <td>False</td>\n",
              "    </tr>\n",
              "    <tr>\n",
              "      <th>985</th>\n",
              "      <td>16</td>\n",
              "      <td>9</td>\n",
              "      <td>2020</td>\n",
              "      <td>2</td>\n",
              "      <td>260</td>\n",
              "      <td>False</td>\n",
              "      <td>False</td>\n",
              "      <td>3</td>\n",
              "      <td>False</td>\n",
              "      <td>False</td>\n",
              "      <td>False</td>\n",
              "      <td>False</td>\n",
              "    </tr>\n",
              "    <tr>\n",
              "      <th>...</th>\n",
              "      <td>...</td>\n",
              "      <td>...</td>\n",
              "      <td>...</td>\n",
              "      <td>...</td>\n",
              "      <td>...</td>\n",
              "      <td>...</td>\n",
              "      <td>...</td>\n",
              "      <td>...</td>\n",
              "      <td>...</td>\n",
              "      <td>...</td>\n",
              "      <td>...</td>\n",
              "      <td>...</td>\n",
              "    </tr>\n",
              "    <tr>\n",
              "      <th>763</th>\n",
              "      <td>29</td>\n",
              "      <td>10</td>\n",
              "      <td>2019</td>\n",
              "      <td>1</td>\n",
              "      <td>302</td>\n",
              "      <td>False</td>\n",
              "      <td>False</td>\n",
              "      <td>4</td>\n",
              "      <td>False</td>\n",
              "      <td>False</td>\n",
              "      <td>False</td>\n",
              "      <td>False</td>\n",
              "    </tr>\n",
              "    <tr>\n",
              "      <th>835</th>\n",
              "      <td>12</td>\n",
              "      <td>2</td>\n",
              "      <td>2020</td>\n",
              "      <td>2</td>\n",
              "      <td>43</td>\n",
              "      <td>False</td>\n",
              "      <td>False</td>\n",
              "      <td>1</td>\n",
              "      <td>False</td>\n",
              "      <td>False</td>\n",
              "      <td>False</td>\n",
              "      <td>False</td>\n",
              "    </tr>\n",
              "    <tr>\n",
              "      <th>1216</th>\n",
              "      <td>17</td>\n",
              "      <td>8</td>\n",
              "      <td>2021</td>\n",
              "      <td>1</td>\n",
              "      <td>229</td>\n",
              "      <td>False</td>\n",
              "      <td>False</td>\n",
              "      <td>3</td>\n",
              "      <td>False</td>\n",
              "      <td>False</td>\n",
              "      <td>False</td>\n",
              "      <td>False</td>\n",
              "    </tr>\n",
              "    <tr>\n",
              "      <th>559</th>\n",
              "      <td>8</td>\n",
              "      <td>1</td>\n",
              "      <td>2019</td>\n",
              "      <td>1</td>\n",
              "      <td>8</td>\n",
              "      <td>False</td>\n",
              "      <td>False</td>\n",
              "      <td>1</td>\n",
              "      <td>False</td>\n",
              "      <td>False</td>\n",
              "      <td>False</td>\n",
              "      <td>False</td>\n",
              "    </tr>\n",
              "    <tr>\n",
              "      <th>684</th>\n",
              "      <td>9</td>\n",
              "      <td>7</td>\n",
              "      <td>2019</td>\n",
              "      <td>1</td>\n",
              "      <td>190</td>\n",
              "      <td>False</td>\n",
              "      <td>False</td>\n",
              "      <td>3</td>\n",
              "      <td>False</td>\n",
              "      <td>False</td>\n",
              "      <td>False</td>\n",
              "      <td>False</td>\n",
              "    </tr>\n",
              "  </tbody>\n",
              "</table>\n",
              "<p>991 rows × 12 columns</p>\n",
              "</div>"
            ],
            "text/plain": [
              "      Day  Month  Year  ...  Is Quarter end  Is year start  Is year end\n",
              "1190   12      7  2021  ...           False          False        False\n",
              "567    18      1  2019  ...           False          False        False\n",
              "787     3     12  2019  ...           False          False        False\n",
              "406    30      5  2018  ...           False          False        False\n",
              "985    16      9  2020  ...           False          False        False\n",
              "...   ...    ...   ...  ...             ...            ...          ...\n",
              "763    29     10  2019  ...           False          False        False\n",
              "835    12      2  2020  ...           False          False        False\n",
              "1216   17      8  2021  ...           False          False        False\n",
              "559     8      1  2019  ...           False          False        False\n",
              "684     9      7  2019  ...           False          False        False\n",
              "\n",
              "[991 rows x 12 columns]"
            ]
          },
          "metadata": {},
          "execution_count": 142
        }
      ]
    },
    {
      "cell_type": "markdown",
      "source": [
        "#Prediction for SMA and values for stage 1"
      ],
      "metadata": {
        "id": "VbHMs8GmmF1L"
      }
    },
    {
      "cell_type": "code",
      "metadata": {
        "id": "xUnshD0jSXMP"
      },
      "source": [
        "#Prediction for SMA and EMA values --STAGE 1\n",
        "from sklearn.linear_model import LinearRegression\n",
        "learner = LinearRegression() #initializing linear regression model\n",
        "learner.fit(X_train,Y_train)\n",
        "Y_future = learner.predict(X_future)\n",
        "\n",
        "from sklearn.linear_model import LinearRegression\n",
        "LR_SMA = LinearRegression() #initializing linear regression model\n",
        "LR_SMA.fit(X_train_SMA,Y_train_SMA)\n",
        "Y_future_SMA = LR_SMA.predict(X_future)"
      ],
      "execution_count": null,
      "outputs": []
    },
    {
      "cell_type": "markdown",
      "source": [
        "#One Stage Framework"
      ],
      "metadata": {
        "id": "eZlbhf7xmCYv"
      }
    },
    {
      "cell_type": "code",
      "metadata": {
        "id": "lKF1rPlX9CSy"
      },
      "source": [
        "#Prediction for One Stage framework\n",
        "MAE_5=[]\n",
        "RMSE_5=[]\n",
        "from sklearn.metrics import mean_squared_error, mean_absolute_error\n",
        "from sklearn.linear_model import LinearRegression\n",
        "LR_close = LinearRegression() #initializing linear regression model\n",
        "LR_close.fit(X_train_close,Y_train_close)\n",
        "Y_future_LR_close = LR_close.predict(X_future)\n",
        "import math\n",
        "MAE_5 .append(mean_absolute_error(Y_actual_Close, Y_future_LR_close))\n",
        "RMSE_5.append(math.sqrt(mean_squared_error(Y_actual_Close, Y_future_LR_close)))\n",
        "\n",
        "from sklearn import svm\n",
        "rbf_SVR_close= svm.SVR(kernel = 'rbf', C= 3000.0, gamma= 0.3)\n",
        "rbf_SVR_close.fit(X_train_close,Y_train_close)\n",
        "Y_future_SV_close = rbf_SVR_close.predict(X_future)\n",
        "\n",
        "MAE_5 .append(mean_absolute_error(Y_actual_Close, Y_future_SV_close))\n",
        "RMSE_5.append(math.sqrt(mean_squared_error(Y_actual_Close, Y_future_SV_close)))\n",
        "\n",
        "from sklearn.tree import DecisionTreeRegressor\n",
        "DTR_close= DecisionTreeRegressor(max_depth= 5)\n",
        "DTR_close.fit(X_train_close,Y_train_close)\n",
        "Y_future_DTR_close = DTR_close.predict(X_future)\n",
        "\n",
        "MAE_5 .append(mean_absolute_error(Y_actual_Close, Y_future_DTR_close))\n",
        "RMSE_5.append(math.sqrt(mean_squared_error(Y_actual_Close, Y_future_DTR_close)))\n",
        "\n",
        "from sklearn import linear_model\n",
        "bayes_ridge_close = linear_model.BayesianRidge()\n",
        "bayes_ridge_close.fit(X_train_close,Y_train_close)\n",
        "Y_future_BRR_close= bayes_ridge_close.predict(X_future)\n",
        "MAE_5 .append(mean_absolute_error(Y_actual_Close, Y_future_BRR_close))\n",
        "RMSE_5.append(math.sqrt(mean_squared_error(Y_actual_Close, Y_future_BRR_close)))\n",
        "\n",
        "\n",
        "from sklearn.neighbors import KNeighborsRegressor\n",
        "KNN_close= KNeighborsRegressor()\n",
        "KNN_close.fit(X_train_close,Y_train_close)\n",
        "Y_future_KNN_close = KNN_close.predict(X_future)\n",
        "\n",
        "MAE_5 .append(mean_absolute_error(Y_actual_Close, Y_future_KNN_close))\n",
        "RMSE_5.append(math.sqrt(mean_squared_error(Y_actual_Close, Y_future_KNN_close)))\n",
        "\n",
        "\n",
        "from sklearn.ensemble import RandomForestRegressor\n",
        "RF_close= RandomForestRegressor()\n",
        "RF_close.fit(X_train_close,Y_train_close)\n",
        "Y_future_RF_close = RF_close.predict(X_future)\n",
        "\n",
        "MAE_5 .append(mean_absolute_error(Y_actual_Close, Y_future_RF_close))\n",
        "RMSE_5.append(math.sqrt(mean_squared_error(Y_actual_Close, Y_future_RF_close)))\n",
        "\n"
      ],
      "execution_count": null,
      "outputs": []
    },
    {
      "cell_type": "markdown",
      "source": [
        "#Bagging With One stage Framework"
      ],
      "metadata": {
        "id": "6Of4k-Cr6b2F"
      }
    },
    {
      "cell_type": "code",
      "metadata": {
        "colab": {
          "base_uri": "https://localhost:8080/"
        },
        "id": "fkyV8FON8KVd",
        "outputId": "f73f1ca7-0ea8-4f4a-90e4-5239a69d1a43"
      },
      "source": [
        "LR_Bag = BaggingRegressor(base_estimator = LR_close)\n",
        "LR_Bag.fit(X_train_close,Y_train_close)\n",
        "y_pred = LR_Bag.predict(X_future)\n",
        "print(\"Mean absolute error\",mean_absolute_error(Y_actual_Close, y_pred))\n",
        "print(\"Mean squared error\",mean_squared_error(Y_actual_Close, y_pred))"
      ],
      "execution_count": null,
      "outputs": [
        {
          "output_type": "stream",
          "name": "stdout",
          "text": [
            "Mean absolute error 41.77919017451303\n",
            "Mean squared error 1791.2086385951873\n"
          ]
        }
      ]
    },
    {
      "cell_type": "code",
      "metadata": {
        "id": "UXfsEwqB8bSx"
      },
      "source": [
        "Y_future_LR_Bag = LR_Bag.predict(X_future)\n",
        "import math\n",
        "MAE_5 .append(mean_absolute_error(Y_actual_Close, Y_future_LR_Bag))\n",
        "RMSE_5.append(math.sqrt(mean_squared_error(Y_actual_Close, Y_future_LR_Bag)))"
      ],
      "execution_count": null,
      "outputs": []
    },
    {
      "cell_type": "code",
      "source": [
        "# bagging classifier\n",
        "SVM_Bag = BaggingRegressor(base_estimator = SV)\n",
        "SVM_Bag.fit(X_train_close,Y_train_close)\n",
        "y_pred = SVM_Bag.predict(X_future)\n",
        "print(\"Mean absolute error\",mean_absolute_error(Y_actual_Close, y_pred))\n",
        "print(\"Mean squared error\",mean_squared_error(Y_actual_Close, y_pred))"
      ],
      "metadata": {
        "colab": {
          "base_uri": "https://localhost:8080/"
        },
        "id": "yAXVUtYj6gub",
        "outputId": "a56710e6-28af-4926-f1bf-7809c4b266b8"
      },
      "execution_count": null,
      "outputs": [
        {
          "output_type": "stream",
          "name": "stdout",
          "text": [
            "Mean absolute error 174.1493130945224\n",
            "Mean squared error 30369.88425242796\n"
          ]
        }
      ]
    },
    {
      "cell_type": "code",
      "source": [
        "Y_future_SVM_Bag = SVM_Bag.predict(X_future)\n",
        "import math\n",
        "MAE_5 .append(mean_absolute_error(Y_actual_Close, Y_future_SVM_Bag))\n",
        "RMSE_5.append(math.sqrt(mean_squared_error(Y_actual_Close, Y_future_SVM_Bag)))"
      ],
      "metadata": {
        "id": "7QbIAR8A65i6"
      },
      "execution_count": null,
      "outputs": []
    },
    {
      "cell_type": "code",
      "source": [
        "# bagging classifier\n",
        "DTR_Bag = BaggingRegressor(base_estimator = DTR)\n",
        "DTR_Bag.fit(X_train_close,Y_train_close)\n",
        "y_pred = DTR_Bag.predict(X_future)\n",
        "print(\"Mean absolute error\",mean_absolute_error(Y_actual_Close, y_pred))\n",
        "print(\"Mean squared error\",mean_squared_error(Y_actual_Close, y_pred))"
      ],
      "metadata": {
        "colab": {
          "base_uri": "https://localhost:8080/"
        },
        "id": "dk6t6nG965lf",
        "outputId": "82db4554-f3e3-4ff7-b195-1621cd647716"
      },
      "execution_count": null,
      "outputs": [
        {
          "output_type": "stream",
          "name": "stdout",
          "text": [
            "Mean absolute error 8.063288937590494\n",
            "Mean squared error 106.83551938116702\n"
          ]
        }
      ]
    },
    {
      "cell_type": "code",
      "source": [
        "Y_future_DTR_Bag = DTR_Bag.predict(X_future)\n",
        "import math\n",
        "MAE_5 .append(mean_absolute_error(Y_actual_Close, Y_future_DTR_Bag))\n",
        "RMSE_5.append(math.sqrt(mean_squared_error(Y_actual_Close, Y_future_DTR_Bag)))"
      ],
      "metadata": {
        "id": "AqRQwM0o65ph"
      },
      "execution_count": null,
      "outputs": []
    },
    {
      "cell_type": "code",
      "source": [
        "# bagging classifier\n",
        "KNN_Bag = BaggingRegressor(base_estimator = KNN)\n",
        "KNN_Bag.fit(X_train_close,Y_train_close)\n",
        "y_pred = KNN_Bag.predict(X_future)\n",
        "print(\"Mean absolute error\",mean_absolute_error(Y_actual_Close, y_pred))\n",
        "print(\"Mean squared error\",mean_squared_error(Y_actual_Close, y_pred))"
      ],
      "metadata": {
        "colab": {
          "base_uri": "https://localhost:8080/"
        },
        "id": "O7ctsLcR65r7",
        "outputId": "c8394396-a231-4e06-b2a6-ae84ebb6ab0f"
      },
      "execution_count": null,
      "outputs": [
        {
          "output_type": "stream",
          "name": "stdout",
          "text": [
            "Mean absolute error 124.70605645500022\n",
            "Mean squared error 15616.353399737098\n"
          ]
        }
      ]
    },
    {
      "cell_type": "code",
      "source": [
        "Y_future_KNN_Bag = KNN_Bag.predict(X_future)\n",
        "import math\n",
        "MAE_5 .append(mean_absolute_error(Y_actual_Close, Y_future_KNN_Bag))\n",
        "RMSE_5.append(math.sqrt(mean_squared_error(Y_actual_Close, Y_future_KNN_Bag)))"
      ],
      "metadata": {
        "id": "qkzJq1eP65vI"
      },
      "execution_count": null,
      "outputs": []
    },
    {
      "cell_type": "code",
      "source": [
        "# bagging classifier\n",
        "Rf_Bag = BaggingRegressor(base_estimator = RF)\n",
        "Rf_Bag.fit(X_train_close,Y_train_close)\n",
        "y_pred = Rf_Bag.predict(X_future)\n",
        "print(\"Mean absolute error\",mean_absolute_error(Y_actual_Close, y_pred))\n",
        "print(\"Mean squared error\",mean_squared_error(Y_actual, y_pred))"
      ],
      "metadata": {
        "colab": {
          "base_uri": "https://localhost:8080/"
        },
        "id": "3P0P5Z6A65yE",
        "outputId": "7a7c2c88-5b8c-405e-e466-cc4cb95032bc"
      },
      "execution_count": null,
      "outputs": [
        {
          "output_type": "stream",
          "name": "stdout",
          "text": [
            "Mean absolute error 8.034088606663556\n",
            "Mean squared error 25.23919056349604\n"
          ]
        }
      ]
    },
    {
      "cell_type": "code",
      "source": [
        "Y_future_Rf_Bag = Rf_Bag.predict(X_future)\n",
        "import math\n",
        "MAE_5 .append(mean_absolute_error(Y_actual_Close, Y_future_Rf_Bag))\n",
        "RMSE_5.append(math.sqrt(mean_squared_error(Y_actual_Close, Y_future_Rf_Bag)))"
      ],
      "metadata": {
        "id": "sdTk0xsu653S"
      },
      "execution_count": null,
      "outputs": []
    },
    {
      "cell_type": "code",
      "source": [
        "# bagging classifier\n",
        "BRR_Bag = BaggingRegressor(base_estimator = bayes_ridge)\n",
        "BRR_Bag.fit(X_train_close,Y_train_close)\n",
        "y_pred = BRR_Bag.predict(X_future)\n",
        "print(\"Mean absolute error\",mean_absolute_error(Y_actual_Close, y_pred))\n",
        "print(\"Mean squared error\",mean_squared_error(Y_actual, y_pred))"
      ],
      "metadata": {
        "colab": {
          "base_uri": "https://localhost:8080/"
        },
        "id": "Of4YtCkeruZl",
        "outputId": "5a63dc81-efa6-4aac-f75e-65b55a37f345"
      },
      "execution_count": null,
      "outputs": [
        {
          "output_type": "stream",
          "name": "stdout",
          "text": [
            "Mean absolute error 39.911131570214465\n",
            "Mean squared error 1976.6680842054525\n"
          ]
        }
      ]
    },
    {
      "cell_type": "code",
      "source": [
        "Y_future_BRR_Bag = BRR_Bag.predict(X_future)\n",
        "import math\n",
        "MAE_5 .append(mean_absolute_error(Y_actual_Close, Y_future_BRR_Bag))\n",
        "RMSE_5.append(math.sqrt(mean_squared_error(Y_actual_Close, Y_future_BRR_Bag)))"
      ],
      "metadata": {
        "id": "dS6sLeDPsCfM"
      },
      "execution_count": null,
      "outputs": []
    },
    {
      "cell_type": "markdown",
      "source": [
        "#One stage Framework for Ada Boost"
      ],
      "metadata": {
        "id": "O_1knautmSZ2"
      }
    },
    {
      "cell_type": "markdown",
      "source": [
        "## Linear Regression"
      ],
      "metadata": {
        "id": "eyoywC7UmlMX"
      }
    },
    {
      "cell_type": "code",
      "source": [
        "#LR\n",
        "import math\n",
        "from sklearn.metrics import mean_squared_error, mean_absolute_error\n",
        "from sklearn.ensemble import AdaBoostRegressor\n",
        "from sklearn.linear_model import LinearRegression\n",
        "LR_close = LinearRegression()\n",
        "ada_one_LR = AdaBoostRegressor(base_estimator=LR_close)\n",
        "ada_one_LR.fit(X_train_close,Y_train_close)\n",
        "# y_pred = ada_LR.predict(X_test)\n",
        "Y_future_ada_one_LR = ada_one_LR.predict(X_future)\n",
        "MAE_5.append(mean_absolute_error(Y_actual_Close, Y_future_ada_one_LR))\n",
        "RMSE_5.append(math.sqrt(mean_squared_error(Y_actual_Close, Y_future_ada_one_LR)))"
      ],
      "metadata": {
        "id": "fFgg53GRmZCj"
      },
      "execution_count": null,
      "outputs": []
    },
    {
      "cell_type": "markdown",
      "source": [
        "##SVR"
      ],
      "metadata": {
        "id": "zyNh7R8Fmvvs"
      }
    },
    {
      "cell_type": "code",
      "source": [
        "#SVR\n",
        "import math\n",
        "from sklearn.metrics import mean_squared_error, mean_absolute_error\n",
        "from sklearn.ensemble import AdaBoostRegressor\n",
        "from sklearn import svm\n",
        "SV_close= svm.SVR(kernel = 'rbf', C= 3000.0, gamma= 0.001)\n",
        "ada_one_SV = AdaBoostRegressor(base_estimator=SV_close)\n",
        "ada_one_SV.fit(X_train_close,Y_train_close)\n",
        "Y_future_ada_one_SV = ada_one_SV.predict(X_future)\n",
        "MAE_5.append(mean_absolute_error(Y_actual_Close, Y_future_ada_one_SV))\n",
        "RMSE_5.append(math.sqrt(mean_squared_error(Y_actual_Close, Y_future_ada_one_SV)))"
      ],
      "metadata": {
        "id": "pef6pMFxmZFN"
      },
      "execution_count": null,
      "outputs": []
    },
    {
      "cell_type": "markdown",
      "source": [
        "##DTR"
      ],
      "metadata": {
        "id": "abkCaaT8m1db"
      }
    },
    {
      "cell_type": "code",
      "source": [
        "#DTR\n",
        "import math\n",
        "from sklearn.metrics import mean_squared_error, mean_absolute_error\n",
        "from sklearn.ensemble import AdaBoostRegressor\n",
        "from sklearn.tree import DecisionTreeRegressor\n",
        "DTR_close = DecisionTreeRegressor(max_depth= 5)\n",
        "ada_one_DTR = AdaBoostRegressor(base_estimator=DTR_close)\n",
        "ada_one_DTR.fit(X_train_close,Y_train_close)\n",
        "Y_future_ada_one_DTR = ada_one_DTR.predict(X_future)\n",
        "MAE_5.append(mean_absolute_error(Y_actual_Close, Y_future_ada_one_DTR))\n",
        "RMSE_5.append(math.sqrt(mean_squared_error(Y_actual_Close, Y_future_ada_one_DTR)))"
      ],
      "metadata": {
        "id": "tcKhGaVVmZI4"
      },
      "execution_count": null,
      "outputs": []
    },
    {
      "cell_type": "markdown",
      "source": [
        "##Bayesian Ridge Regression"
      ],
      "metadata": {
        "id": "1S06cWatm70T"
      }
    },
    {
      "cell_type": "code",
      "source": [
        "#Baye's Ridge Regression\n",
        "import math\n",
        "from sklearn.metrics import mean_squared_error, mean_absolute_error\n",
        "from sklearn.ensemble import AdaBoostRegressor\n",
        "bayes_ridge_close = linear_model.BayesianRidge()\n",
        "ada_one_BRR = AdaBoostRegressor(base_estimator=bayes_ridge_close)\n",
        "ada_one_BRR.fit(X_train_close,Y_train_close)\n",
        "Y_future_ada_one_BRR= ada_one_BRR.predict(X_future)\n",
        "MAE_5 .append(mean_absolute_error(Y_actual_Close, Y_future_ada_one_BRR))\n",
        "RMSE_5.append(math.sqrt(mean_squared_error(Y_actual_Close, Y_future_ada_one_BRR)))"
      ],
      "metadata": {
        "id": "u1zX3YMAmZPC"
      },
      "execution_count": null,
      "outputs": []
    },
    {
      "cell_type": "markdown",
      "source": [
        "##Random Forest"
      ],
      "metadata": {
        "id": "0P_3Kf2unJoC"
      }
    },
    {
      "cell_type": "code",
      "source": [
        "#Random Forest\n",
        "import math\n",
        "from sklearn.metrics import mean_squared_error, mean_absolute_error\n",
        "from sklearn.ensemble import AdaBoostRegressor\n",
        "from sklearn.ensemble import RandomForestRegressor\n",
        "RF_close= RandomForestRegressor(max_depth=5)\n",
        "ada_one_RF = AdaBoostRegressor(base_estimator=RF_close)\n",
        "ada_one_RF.fit(X_train_close,Y_train_close)\n",
        "Y_future_ada_one_RF= ada_one_RF.predict(X_future)\n",
        "MAE_5 .append(mean_absolute_error(Y_actual_Close, Y_future_ada_one_RF))\n",
        "RMSE_5.append(math.sqrt(mean_squared_error(Y_actual_Close, Y_future_ada_one_RF)))"
      ],
      "metadata": {
        "id": "AkTOpWZtnI5z"
      },
      "execution_count": null,
      "outputs": []
    },
    {
      "cell_type": "markdown",
      "source": [
        "##KNN"
      ],
      "metadata": {
        "id": "SNXtWKsInM18"
      }
    },
    {
      "cell_type": "code",
      "source": [
        "#Random Forest\n",
        "import math\n",
        "from sklearn.metrics import mean_squared_error, mean_absolute_error\n",
        "from sklearn.ensemble import AdaBoostRegressor\n",
        "from sklearn.neighbors import KNeighborsRegressor\n",
        "KNN_close= KNeighborsRegressor()\n",
        "ada_one_KNN = AdaBoostRegressor(base_estimator=KNN_close)\n",
        "ada_one_KNN.fit(X_train_close,Y_train_close)\n",
        "Y_future_ada_one_KNN= ada_one_KNN.predict(X_future)\n",
        "MAE_5 .append(mean_absolute_error(Y_actual_Close, Y_future_ada_one_KNN))\n",
        "RMSE_5.append(math.sqrt(mean_squared_error(Y_actual_Close, Y_future_ada_one_KNN)))"
      ],
      "metadata": {
        "id": "JoaRm9T5nI8l"
      },
      "execution_count": null,
      "outputs": []
    },
    {
      "cell_type": "markdown",
      "source": [
        "#Two Stage Approch"
      ],
      "metadata": {
        "id": "eVTLmTxBnydj"
      }
    },
    {
      "cell_type": "code",
      "metadata": {
        "id": "Kkx_qKdJXzEm"
      },
      "source": [
        "# creating Xtrain/test which is (t+nth) days EMA and SMA predicted\n",
        "X= pd.DataFrame()\n",
        "X['EMA_close']= MSFT_copy['EMA_close'][:-n]\n",
        "X['SMA_10 Close']= MSFT_copy['SMA_10 Close'][:-n]\n",
        "\n",
        "### predicted features for (t+nth) days\n",
        "X_lately = pd.DataFrame()\n",
        "X_lately['EMA_close'] = Y_future\n",
        "X_lately['SMA_10 Close'] = Y_future_SMA\n",
        "\n",
        "y = MSFT_copy['Close'][:-n]\n",
        "X_train, X_test, Y_train, Y_test = train_test_split(X, y, test_size=0.2, random_state=0) #cross validation\n",
        "#Linear -Linear\n",
        "from sklearn.linear_model import LinearRegression\n",
        "learner = LinearRegression() #initializing linear regression model\n",
        "learner.fit(X_train,Y_train)\n",
        "Y_lately_LR = learner.predict(X_lately)\n",
        "\n",
        "#Linear-SVR\n",
        "from sklearn import svm\n",
        "rbf_SVR= svm.SVR(kernel = 'rbf', C= 3000.0, gamma= 0.3)\n",
        "rbf_SVR.fit(X_train,Y_train)\n",
        "Y_lately_SV = rbf_SVR.predict(X_lately)\n",
        "\n",
        "#Linear-DTR\n",
        "from sklearn.tree import DecisionTreeRegressor\n",
        "DTR = DecisionTreeRegressor(max_depth= 5)\n",
        "DTR.fit(X_train,Y_train)\n",
        "Y_lately_DTR = DTR.predict(X_lately)\n",
        "########################\n",
        "\n",
        "\n",
        "#Linear-KNN\n",
        "from sklearn.neighbors import KNeighborsRegressor\n",
        "KNN=KNeighborsRegressor()\n",
        "LR_KNN= KNN\n",
        "LR_KNN.fit(X_train,Y_train)\n",
        "Y_lately_LR_KNN = LR_KNN.predict(X_lately)\n",
        "\n",
        "\n",
        "#Linear-Random Forest\n",
        "from sklearn.ensemble import RandomForestRegressor\n",
        "RF=RandomForestRegressor()\n",
        "LR_RF=RF\n",
        "LR_RF.fit(X_train,Y_train)\n",
        "Y_lately_LR_RF = LR_RF.predict(X_lately)\n",
        "\n",
        "\n",
        "\n",
        "\n",
        "#Linear-Bayesian Ridge\n",
        "from sklearn import linear_model\n",
        "BRR=linear_model.BayesianRidge()\n",
        "LR_BRR=BRR\n",
        "LR_BRR.fit(X_train,Y_train)\n",
        "Y_lately_LR_BRR = LR_BRR.predict(X_lately)\n",
        "\n",
        "\n",
        "\n",
        "import math\n",
        "MAE_5 .append(mean_absolute_error(Y_actual_Close, Y_lately_SV))\n",
        "RMSE_5.append(math.sqrt(mean_squared_error(Y_actual_Close, Y_lately_SV)))\n",
        "\n",
        "MAE_5 .append(mean_absolute_error(Y_actual_Close, Y_lately_LR))\n",
        "RMSE_5.append(math.sqrt(mean_squared_error(Y_actual_Close, Y_lately_LR)))\n",
        "\n",
        "MAE_5 .append(mean_absolute_error(Y_actual_Close, Y_lately_DTR))\n",
        "RMSE_5.append(math.sqrt(mean_squared_error(Y_actual_Close, Y_lately_DTR)))\n",
        "\n",
        "MAE_5 .append(mean_absolute_error(Y_actual_Close, Y_lately_LR_KNN))\n",
        "RMSE_5.append(math.sqrt(mean_squared_error(Y_actual_Close, Y_lately_LR_KNN)))\n",
        "\n",
        "MAE_5 .append(mean_absolute_error(Y_actual_Close, Y_lately_LR_RF))\n",
        "RMSE_5.append(math.sqrt(mean_squared_error(Y_actual_Close, Y_lately_LR_RF)))\n",
        "\n",
        "MAE_5 .append(mean_absolute_error(Y_actual_Close, Y_lately_LR_BRR))\n",
        "RMSE_5.append(math.sqrt(mean_squared_error(Y_actual_Close, Y_lately_LR_BRR)))\n"
      ],
      "execution_count": null,
      "outputs": []
    },
    {
      "cell_type": "code",
      "source": [
        "plt.figure(figsize=(15,5))\n",
        "plt.title('Predicted Closing values')\n",
        "plt.plot( Y_actual_Close.index, Y_actual_Close, label= 'Actual')\n",
        "plt.xlabel('20 Days in future')\n",
        "plt.ylabel('Closing Price USD ($)')\n",
        "plt.plot(Y_actual_Close.index, Y_future_LR_close, label = 'LR',ls='-')\n",
        "plt.plot(Y_actual_Close.index, Y_future_LR_Bag, label = 'LR-Bag',ls='-')\n",
        "plt.plot(Y_actual_Close.index, Y_future_ada_one_LR, label = 'LR-Ada',ls='-')\n",
        "plt.plot(Y_actual_Close.index, Y_future_SV_close, label = 'SVR',ls=':')\n",
        "plt.plot(Y_actual_Close.index, Y_future_SVM_Bag, label = 'SVR-Bag',ls=':')\n",
        "plt.plot(Y_actual_Close.index, Y_future_ada_one_SV, label = 'SVM-Ada',ls=':')\n",
        "plt.plot(Y_actual_Close.index, Y_future_DTR_close, label = 'DTR',ls='-.')\n",
        "plt.plot(Y_actual_Close.index, Y_future_DTR_Bag, label = 'DTR-Bag',ls='-.')\n",
        "plt.plot(Y_actual_Close.index, Y_future_ada_one_DTR, label = 'DTR-Ada',ls='-.')\n",
        "plt.plot(Y_actual_Close.index, Y_future_KNN_close, label = 'KNN',ls='dotted')\n",
        "plt.plot(Y_actual_Close.index, Y_future_KNN_Bag, label = 'KNN-Bag',ls='dotted')\n",
        "plt.plot(Y_actual_Close.index, Y_future_ada_one_KNN, label = 'KNN-Ada',ls='dotted')\n",
        "plt.plot(Y_actual_Close.index, Y_future_BRR_close, label = 'Bayesian Ridge',ls='--')\n",
        "plt.plot(Y_actual_Close.index, Y_future_BRR_Bag, label = 'Bayesian Ridge',ls='--')\n",
        "plt.plot(Y_actual_Close.index, Y_future_ada_one_BRR, label = 'BRR-ada',ls='--')\n",
        "plt.plot(Y_actual_Close.index, Y_future_RF_close, label = 'RF',ls=' ')\n",
        "plt.plot(Y_actual_Close.index, Y_future_Rf_Bag, label = 'RF-Bag',ls=' ')\n",
        "plt.plot(Y_actual_Close.index, Y_future_ada_one_RF, label = 'RF-Ada',ls=' ')\n",
        "\n",
        "plt.legend(loc='upper right')\n",
        "plt.show()"
      ],
      "metadata": {
        "colab": {
          "base_uri": "https://localhost:8080/",
          "height": 350
        },
        "id": "xzhX_oqut1q9",
        "outputId": "13b917a9-c959-4040-f524-2e32d7478a2b"
      },
      "execution_count": null,
      "outputs": [
        {
          "output_type": "display_data",
          "data": {
            "image/png": "[encoded data removed]",
            "text/plain": [
              "<Figure size 1080x360 with 1 Axes>"
            ]
          },
          "metadata": {
            "needs_background": "light"
          }
        }
      ]
    },
    {
      "cell_type": "code",
      "metadata": {
        "colab": {
          "base_uri": "https://localhost:8080/",
          "height": 350
        },
        "id": "oWsMJuPiXzBN",
        "outputId": "f946a254-fc42-42d5-e09e-a9c5b6faff46"
      },
      "source": [
        "plt.figure(figsize=(15,5))\n",
        "plt.title('Predicted Closing values')\n",
        "plt.plot( Y_actual_Close.index, Y_actual_Close, label= 'Actual')\n",
        "plt.xlabel('10 Days in future')\n",
        "plt.ylabel('Closing Price USD ($)')\n",
        "plt.plot(Y_actual_Close.index, Y_lately_LR, label = 'LR-LR',ls='--')\n",
        "plt.plot(Y_actual_Close.index, Y_lately_SV, label = 'LR-SVR',ls='-.')\n",
        "plt.plot(Y_actual_Close.index, Y_lately_LR_KNN, label = 'LR-KNN',ls='-')\n",
        "plt.plot(Y_actual_Close.index, Y_lately_DTR, label = 'LR-DTR',ls='dotted')\n",
        "plt.plot(Y_actual_Close.index, Y_lately_LR_RF, label = 'LR-RF',ls=':')\n",
        "plt.plot(Y_actual_Close.index, Y_lately_LR_BRR, label = 'LR-BRR',ls='')\n",
        "plt.legend()\n",
        "plt.show()"
      ],
      "execution_count": null,
      "outputs": [
        {
          "output_type": "display_data",
          "data": {
            "image/png": "[encoded data removed]",
            "text/plain": [
              "<Figure size 1080x360 with 1 Axes>"
            ]
          },
          "metadata": {
            "needs_background": "light"
          }
        }
      ]
    },
    {
      "cell_type": "code",
      "metadata": {
        "id": "jagb8Q9IDwAI"
      },
      "source": [
        "Table_1 = pd.DataFrame()\n",
        "Algorithm = ['Linear Regression', 'Support Vector Regression', 'Decision Tree Regression','Bayesian Ridge Regression','KNN','RF','LR_Bag','SVM_Bag','DTR_Bag','KNN_Bag','RF_Bag','Linear AdaBoost','SVR Adaboost','DTR adaboost','BRR Adaboost',\"RF Adaboost\",'KNN Adaboost','Linear-Linear','Linear-KNN','Linear-RF','Linear- Bayesian']\n",
        "Table_1['Algorithm'] = pd.Series(Algorithm)\n",
        "Table_1['MAE']= pd.Series(MAE_5)\n",
        "Table_1['RMSE'] = pd.Series(RMSE_5)"
      ],
      "execution_count": null,
      "outputs": []
    },
    {
      "cell_type": "code",
      "metadata": {
        "colab": {
          "base_uri": "https://localhost:8080/",
          "height": 708
        },
        "id": "q_BnYsw4D4hA",
        "outputId": "1191857d-021c-46d3-a5e0-4e7d4fa8ce4f"
      },
      "source": [
        "Table_1"
      ],
      "execution_count": null,
      "outputs": [
        {
          "output_type": "execute_result",
          "data": {
            "text/html": [
              "<div>\n",
              "<style scoped>\n",
              "    .dataframe tbody tr th:only-of-type {\n",
              "        vertical-align: middle;\n",
              "    }\n",
              "\n",
              "    .dataframe tbody tr th {\n",
              "        vertical-align: top;\n",
              "    }\n",
              "\n",
              "    .dataframe thead th {\n",
              "        text-align: right;\n",
              "    }\n",
              "</style>\n",
              "<table border=\"1\" class=\"dataframe\">\n",
              "  <thead>\n",
              "    <tr style=\"text-align: right;\">\n",
              "      <th></th>\n",
              "      <th>Algorithm</th>\n",
              "      <th>MAE</th>\n",
              "      <th>RMSE</th>\n",
              "    </tr>\n",
              "  </thead>\n",
              "  <tbody>\n",
              "    <tr>\n",
              "      <th>0</th>\n",
              "      <td>Linear Regression</td>\n",
              "      <td>41.084545</td>\n",
              "      <td>41.633506</td>\n",
              "    </tr>\n",
              "    <tr>\n",
              "      <th>1</th>\n",
              "      <td>Support Vector Regression</td>\n",
              "      <td>123.811147</td>\n",
              "      <td>124.234966</td>\n",
              "    </tr>\n",
              "    <tr>\n",
              "      <th>2</th>\n",
              "      <td>Decision Tree Regression</td>\n",
              "      <td>8.211799</td>\n",
              "      <td>10.452394</td>\n",
              "    </tr>\n",
              "    <tr>\n",
              "      <th>3</th>\n",
              "      <td>Bayesian Ridge Regression</td>\n",
              "      <td>41.247537</td>\n",
              "      <td>41.740616</td>\n",
              "    </tr>\n",
              "    <tr>\n",
              "      <th>4</th>\n",
              "      <td>KNN</td>\n",
              "      <td>125.517338</td>\n",
              "      <td>125.796089</td>\n",
              "    </tr>\n",
              "    <tr>\n",
              "      <th>5</th>\n",
              "      <td>RF</td>\n",
              "      <td>8.198145</td>\n",
              "      <td>10.501902</td>\n",
              "    </tr>\n",
              "    <tr>\n",
              "      <th>6</th>\n",
              "      <td>LR_Bag</td>\n",
              "      <td>41.779190</td>\n",
              "      <td>42.322673</td>\n",
              "    </tr>\n",
              "    <tr>\n",
              "      <th>7</th>\n",
              "      <td>SVM_Bag</td>\n",
              "      <td>174.149313</td>\n",
              "      <td>174.269574</td>\n",
              "    </tr>\n",
              "    <tr>\n",
              "      <th>8</th>\n",
              "      <td>DTR_Bag</td>\n",
              "      <td>8.063289</td>\n",
              "      <td>10.336127</td>\n",
              "    </tr>\n",
              "    <tr>\n",
              "      <th>9</th>\n",
              "      <td>KNN_Bag</td>\n",
              "      <td>124.706056</td>\n",
              "      <td>124.965409</td>\n",
              "    </tr>\n",
              "    <tr>\n",
              "      <th>10</th>\n",
              "      <td>RF_Bag</td>\n",
              "      <td>8.034089</td>\n",
              "      <td>10.374717</td>\n",
              "    </tr>\n",
              "    <tr>\n",
              "      <th>11</th>\n",
              "      <td>Linear AdaBoost</td>\n",
              "      <td>39.911132</td>\n",
              "      <td>40.468796</td>\n",
              "    </tr>\n",
              "    <tr>\n",
              "      <th>12</th>\n",
              "      <td>SVR Adaboost</td>\n",
              "      <td>36.931979</td>\n",
              "      <td>37.716999</td>\n",
              "    </tr>\n",
              "    <tr>\n",
              "      <th>13</th>\n",
              "      <td>DTR adaboost</td>\n",
              "      <td>34.397912</td>\n",
              "      <td>35.481199</td>\n",
              "    </tr>\n",
              "    <tr>\n",
              "      <th>14</th>\n",
              "      <td>BRR Adaboost</td>\n",
              "      <td>7.224534</td>\n",
              "      <td>9.532634</td>\n",
              "    </tr>\n",
              "    <tr>\n",
              "      <th>15</th>\n",
              "      <td>RF Adaboost</td>\n",
              "      <td>35.818955</td>\n",
              "      <td>36.369744</td>\n",
              "    </tr>\n",
              "    <tr>\n",
              "      <th>16</th>\n",
              "      <td>KNN Adaboost</td>\n",
              "      <td>7.189502</td>\n",
              "      <td>9.468645</td>\n",
              "    </tr>\n",
              "    <tr>\n",
              "      <th>17</th>\n",
              "      <td>Linear-Linear</td>\n",
              "      <td>109.281759</td>\n",
              "      <td>109.716932</td>\n",
              "    </tr>\n",
              "    <tr>\n",
              "      <th>18</th>\n",
              "      <td>Linear-KNN</td>\n",
              "      <td>43.536395</td>\n",
              "      <td>43.705652</td>\n",
              "    </tr>\n",
              "    <tr>\n",
              "      <th>19</th>\n",
              "      <td>Linear-RF</td>\n",
              "      <td>39.054270</td>\n",
              "      <td>39.696586</td>\n",
              "    </tr>\n",
              "    <tr>\n",
              "      <th>20</th>\n",
              "      <td>Linear- Bayesian</td>\n",
              "      <td>42.633334</td>\n",
              "      <td>43.120994</td>\n",
              "    </tr>\n",
              "  </tbody>\n",
              "</table>\n",
              "</div>"
            ],
            "text/plain": [
              "                    Algorithm         MAE        RMSE\n",
              "0           Linear Regression   41.084545   41.633506\n",
              "1   Support Vector Regression  123.811147  124.234966\n",
              "2    Decision Tree Regression    8.211799   10.452394\n",
              "3   Bayesian Ridge Regression   41.247537   41.740616\n",
              "4                         KNN  125.517338  125.796089\n",
              "5                          RF    8.198145   10.501902\n",
              "6                      LR_Bag   41.779190   42.322673\n",
              "7                     SVM_Bag  174.149313  174.269574\n",
              "8                     DTR_Bag    8.063289   10.336127\n",
              "9                     KNN_Bag  124.706056  124.965409\n",
              "10                     RF_Bag    8.034089   10.374717\n",
              "11            Linear AdaBoost   39.911132   40.468796\n",
              "12               SVR Adaboost   36.931979   37.716999\n",
              "13               DTR adaboost   34.397912   35.481199\n",
              "14               BRR Adaboost    7.224534    9.532634\n",
              "15                RF Adaboost   35.818955   36.369744\n",
              "16               KNN Adaboost    7.189502    9.468645\n",
              "17              Linear-Linear  109.281759  109.716932\n",
              "18                 Linear-KNN   43.536395   43.705652\n",
              "19                  Linear-RF   39.054270   39.696586\n",
              "20           Linear- Bayesian   42.633334   43.120994"
            ]
          },
          "metadata": {},
          "execution_count": 167
        }
      ]
    },
    {
      "cell_type": "markdown",
      "source": [
        "#Two Stage Approach with Adaboost"
      ],
      "metadata": {
        "id": "z5Z9TsDI3eqJ"
      }
    },
    {
      "cell_type": "markdown",
      "source": [
        "Stage 1 Adaboost-LR"
      ],
      "metadata": {
        "id": "fr-8pJmU3mUQ"
      }
    },
    {
      "cell_type": "code",
      "source": [
        "from sklearn.ensemble import AdaBoostRegressor\n",
        "from sklearn.linear_model import LinearRegression\n",
        "ada_learner = LinearRegression()\n",
        "# from sklearn.tree import DecisionTreeRegressor\n",
        "# ada_learner = DecisionTreeRegressor(max_depth= 5)\n",
        "ada_learner_LR = AdaBoostRegressor(base_estimator=ada_learner)\n",
        "ada_learner_LR.fit(X_train,Y_train)\n",
        "ada_Y_future = ada_learner_LR.predict(X_future)\n",
        "\n",
        "ada_learner_SMA = LinearRegression()\n",
        "ada_learner_LR_SMA = AdaBoostRegressor(base_estimator=ada_learner_SMA)\n",
        "ada_learner_LR_SMA.fit(X_train,Y_train)\n",
        "ada_Y_future_SMA = ada_learner_LR_SMA.predict(X_future)"
      ],
      "metadata": {
        "id": "Jq7cwvqx3kxy",
        "colab": {
          "base_uri": "https://localhost:8080/",
          "height": 651
        },
        "outputId": "170a74e2-c9d4-4df6-cfec-a39424753518"
      },
      "execution_count": null,
      "outputs": [
        {
          "output_type": "stream",
          "name": "stderr",
          "text": [
            "/usr/local/lib/python3.7/dist-packages/sklearn/base.py:488: FutureWarning: The feature names should match those that were passed during fit. Starting version 1.2, an error will be raised.\n",
            "Feature names unseen at fit time:\n",
            "- Day\n",
            "- Day of week\n",
            "- Day of year\n",
            "- Is Quarter end\n",
            "- Is Quarter start\n",
            "- ...\n",
            "Feature names seen at fit time, yet now missing:\n",
            "- EMA_close\n",
            "- SMA_10 Close\n",
            "\n",
            "  warnings.warn(message, FutureWarning)\n"
          ]
        },
        {
          "output_type": "error",
          "ename": "ValueError",
          "evalue": "ignored",
          "traceback": [
            "\u001b[0;31m---------------------------------------------------------------------------\u001b[0m",
            "\u001b[0;31mValueError\u001b[0m                                Traceback (most recent call last)",
            "\u001b[0;32m<ipython-input-168-a6357b0d8907>\u001b[0m in \u001b[0;36m<module>\u001b[0;34m()\u001b[0m\n\u001b[1;32m      6\u001b[0m \u001b[0mada_learner_LR\u001b[0m \u001b[0;34m=\u001b[0m \u001b[0mAdaBoostRegressor\u001b[0m\u001b[0;34m(\u001b[0m\u001b[0mbase_estimator\u001b[0m\u001b[0;34m=\u001b[0m\u001b[0mada_learner\u001b[0m\u001b[0;34m)\u001b[0m\u001b[0;34m\u001b[0m\u001b[0;34m\u001b[0m\u001b[0m\n\u001b[1;32m      7\u001b[0m \u001b[0mada_learner_LR\u001b[0m\u001b[0;34m.\u001b[0m\u001b[0mfit\u001b[0m\u001b[0;34m(\u001b[0m\u001b[0mX_train\u001b[0m\u001b[0;34m,\u001b[0m\u001b[0mY_train\u001b[0m\u001b[0;34m)\u001b[0m\u001b[0;34m\u001b[0m\u001b[0;34m\u001b[0m\u001b[0m\n\u001b[0;32m----> 8\u001b[0;31m \u001b[0mada_Y_future\u001b[0m \u001b[0;34m=\u001b[0m \u001b[0mada_learner_LR\u001b[0m\u001b[0;34m.\u001b[0m\u001b[0mpredict\u001b[0m\u001b[0;34m(\u001b[0m\u001b[0mX_future\u001b[0m\u001b[0;34m)\u001b[0m\u001b[0;34m\u001b[0m\u001b[0;34m\u001b[0m\u001b[0m\n\u001b[0m\u001b[1;32m      9\u001b[0m \u001b[0;34m\u001b[0m\u001b[0m\n\u001b[1;32m     10\u001b[0m \u001b[0mada_learner_SMA\u001b[0m \u001b[0;34m=\u001b[0m \u001b[0mLinearRegression\u001b[0m\u001b[0;34m(\u001b[0m\u001b[0;34m)\u001b[0m\u001b[0;34m\u001b[0m\u001b[0;34m\u001b[0m\u001b[0m\n",
            "\u001b[0;32m/usr/local/lib/python3.7/dist-packages/sklearn/ensemble/_weight_boosting.py\u001b[0m in \u001b[0;36mpredict\u001b[0;34m(self, X)\u001b[0m\n\u001b[1;32m   1202\u001b[0m         \"\"\"\n\u001b[1;32m   1203\u001b[0m         \u001b[0mcheck_is_fitted\u001b[0m\u001b[0;34m(\u001b[0m\u001b[0mself\u001b[0m\u001b[0;34m)\u001b[0m\u001b[0;34m\u001b[0m\u001b[0;34m\u001b[0m\u001b[0m\n\u001b[0;32m-> 1204\u001b[0;31m         \u001b[0mX\u001b[0m \u001b[0;34m=\u001b[0m \u001b[0mself\u001b[0m\u001b[0;34m.\u001b[0m\u001b[0m_check_X\u001b[0m\u001b[0;34m(\u001b[0m\u001b[0mX\u001b[0m\u001b[0;34m)\u001b[0m\u001b[0;34m\u001b[0m\u001b[0;34m\u001b[0m\u001b[0m\n\u001b[0m\u001b[1;32m   1205\u001b[0m \u001b[0;34m\u001b[0m\u001b[0m\n\u001b[1;32m   1206\u001b[0m         \u001b[0;32mreturn\u001b[0m \u001b[0mself\u001b[0m\u001b[0;34m.\u001b[0m\u001b[0m_get_median_predict\u001b[0m\u001b[0;34m(\u001b[0m\u001b[0mX\u001b[0m\u001b[0;34m,\u001b[0m \u001b[0mlen\u001b[0m\u001b[0;34m(\u001b[0m\u001b[0mself\u001b[0m\u001b[0;34m.\u001b[0m\u001b[0mestimators_\u001b[0m\u001b[0;34m)\u001b[0m\u001b[0;34m)\u001b[0m\u001b[0;34m\u001b[0m\u001b[0;34m\u001b[0m\u001b[0m\n",
            "\u001b[0;32m/usr/local/lib/python3.7/dist-packages/sklearn/ensemble/_weight_boosting.py\u001b[0m in \u001b[0;36m_check_X\u001b[0;34m(self, X)\u001b[0m\n\u001b[1;32m     86\u001b[0m             \u001b[0mallow_nd\u001b[0m\u001b[0;34m=\u001b[0m\u001b[0;32mTrue\u001b[0m\u001b[0;34m,\u001b[0m\u001b[0;34m\u001b[0m\u001b[0;34m\u001b[0m\u001b[0m\n\u001b[1;32m     87\u001b[0m             \u001b[0mdtype\u001b[0m\u001b[0;34m=\u001b[0m\u001b[0;32mNone\u001b[0m\u001b[0;34m,\u001b[0m\u001b[0;34m\u001b[0m\u001b[0;34m\u001b[0m\u001b[0m\n\u001b[0;32m---> 88\u001b[0;31m             \u001b[0mreset\u001b[0m\u001b[0;34m=\u001b[0m\u001b[0;32mFalse\u001b[0m\u001b[0;34m,\u001b[0m\u001b[0;34m\u001b[0m\u001b[0;34m\u001b[0m\u001b[0m\n\u001b[0m\u001b[1;32m     89\u001b[0m         )\n\u001b[1;32m     90\u001b[0m \u001b[0;34m\u001b[0m\u001b[0m\n",
            "\u001b[0;32m/usr/local/lib/python3.7/dist-packages/sklearn/base.py\u001b[0m in \u001b[0;36m_validate_data\u001b[0;34m(self, X, y, reset, validate_separately, **check_params)\u001b[0m\n\u001b[1;32m    578\u001b[0m \u001b[0;34m\u001b[0m\u001b[0m\n\u001b[1;32m    579\u001b[0m         \u001b[0;32mif\u001b[0m \u001b[0;32mnot\u001b[0m \u001b[0mno_val_X\u001b[0m \u001b[0;32mand\u001b[0m \u001b[0mcheck_params\u001b[0m\u001b[0;34m.\u001b[0m\u001b[0mget\u001b[0m\u001b[0;34m(\u001b[0m\u001b[0;34m\"ensure_2d\"\u001b[0m\u001b[0;34m,\u001b[0m \u001b[0;32mTrue\u001b[0m\u001b[0;34m)\u001b[0m\u001b[0;34m:\u001b[0m\u001b[0;34m\u001b[0m\u001b[0;34m\u001b[0m\u001b[0m\n\u001b[0;32m--> 580\u001b[0;31m             \u001b[0mself\u001b[0m\u001b[0;34m.\u001b[0m\u001b[0m_check_n_features\u001b[0m\u001b[0;34m(\u001b[0m\u001b[0mX\u001b[0m\u001b[0;34m,\u001b[0m \u001b[0mreset\u001b[0m\u001b[0;34m=\u001b[0m\u001b[0mreset\u001b[0m\u001b[0;34m)\u001b[0m\u001b[0;34m\u001b[0m\u001b[0;34m\u001b[0m\u001b[0m\n\u001b[0m\u001b[1;32m    581\u001b[0m \u001b[0;34m\u001b[0m\u001b[0m\n\u001b[1;32m    582\u001b[0m         \u001b[0;32mreturn\u001b[0m \u001b[0mout\u001b[0m\u001b[0;34m\u001b[0m\u001b[0;34m\u001b[0m\u001b[0m\n",
            "\u001b[0;32m/usr/local/lib/python3.7/dist-packages/sklearn/base.py\u001b[0m in \u001b[0;36m_check_n_features\u001b[0;34m(self, X, reset)\u001b[0m\n\u001b[1;32m    394\u001b[0m         \u001b[0;32mif\u001b[0m \u001b[0mn_features\u001b[0m \u001b[0;34m!=\u001b[0m \u001b[0mself\u001b[0m\u001b[0;34m.\u001b[0m\u001b[0mn_features_in_\u001b[0m\u001b[0;34m:\u001b[0m\u001b[0;34m\u001b[0m\u001b[0;34m\u001b[0m\u001b[0m\n\u001b[1;32m    395\u001b[0m             raise ValueError(\n\u001b[0;32m--> 396\u001b[0;31m                 \u001b[0;34mf\"X has {n_features} features, but {self.__class__.__name__} \"\u001b[0m\u001b[0;34m\u001b[0m\u001b[0;34m\u001b[0m\u001b[0m\n\u001b[0m\u001b[1;32m    397\u001b[0m                 \u001b[0;34mf\"is expecting {self.n_features_in_} features as input.\"\u001b[0m\u001b[0;34m\u001b[0m\u001b[0;34m\u001b[0m\u001b[0m\n\u001b[1;32m    398\u001b[0m             )\n",
            "\u001b[0;31mValueError\u001b[0m: X has 12 features, but AdaBoostRegressor is expecting 2 features as input."
          ]
        }
      ]
    },
    {
      "cell_type": "code",
      "source": [
        "Ada_MAE_5= []\n",
        "Ada_RMSE_5 = []\n",
        "from sklearn.metrics import mean_squared_error, mean_absolute_error\n",
        "# creating Xtrain/test which is (t+nth) days EMA and SMA predicted\n",
        "X= pd.DataFrame()\n",
        "X['EMA_close']= MSFT_copy['EMA_close'][:-n]\n",
        "X['SMA_10 Close']= MSFT_copy['SMA_10 Close'][:-n]\n",
        "\n",
        "### predicted features for (t+nth) days\n",
        "X_lately = pd.DataFrame()\n",
        "X_lately['EMA_close'] = ada_Y_future\n",
        "X_lately['SMA_10 Close'] = ada_Y_future_SMA\n",
        "\n",
        "y = MSFT_copy['Close'][:-n]\n",
        "X_train, X_test, Y_train, Y_test = train_test_split(X, y, test_size=0.2, random_state=0) #cross validation\n",
        "#Linear -Linear\n",
        "from sklearn.linear_model import LinearRegression\n",
        "learner = LinearRegression() #initializing linear regression model\n",
        "learner.fit(X_train,Y_train)\n",
        "ada_Y_lately_LR = learner.predict(X_lately)\n",
        "\n",
        "#Linear-SVR\n",
        "from sklearn import svm\n",
        "rbf_SVR= svm.SVR(kernel = 'rbf', C= 3000.0, gamma= 0.01)\n",
        "rbf_SVR.fit(X_train,Y_train)\n",
        "ada_Y_lately_SV = rbf_SVR.predict(X_lately)\n",
        "\n",
        "#Linear-DTR\n",
        "from sklearn.tree import DecisionTreeRegressor\n",
        "DTR = DecisionTreeRegressor(max_depth= 5)\n",
        "DTR.fit(X_train,Y_train)\n",
        "ada_Y_lately_DTR = DTR.predict(X_lately)\n",
        "\n",
        "#Linear-BRR\n",
        "from sklearn import linear_model\n",
        "BRR = linear_model.BayesianRidge()\n",
        "BRR.fit(X_train,Y_train)\n",
        "ada_Y_lately_BRR= BRR.predict(X_lately)\n",
        "\n",
        "#Linear-RF\n",
        "from sklearn.ensemble import RandomForestClassifier\n",
        "RF= RandomForestClassifier(max_depth=5)\n",
        "RF.fit(X_train,Y_train)\n",
        "ada_Y_lately_RF= bayes_ridge.predict(X_lately)\n",
        "\n",
        "import math\n",
        "Ada_MAE_5 .append(mean_absolute_error(Y_actual_Close, ada_Y_lately_SV))\n",
        "Ada_RMSE_5.append(math.sqrt(mean_squared_error(Y_actual_Close, ada_Y_lately_SV)))\n",
        "\n",
        "Ada_MAE_5 .append(mean_absolute_error(Y_actual_Close, ada_Y_lately_LR))\n",
        "Ada_RMSE_5.append(math.sqrt(mean_squared_error(Y_actual_Close, ada_Y_lately_LR)))\n",
        "\n",
        "Ada_MAE_5 .append(mean_absolute_error(Y_actual_Close, ada_Y_lately_DTR))\n",
        "Ada_RMSE_5.append(math.sqrt(mean_squared_error(Y_actual_Close, ada_Y_lately_DTR)))\n",
        "\n",
        "Ada_MAE_5 .append(mean_absolute_error(Y_actual_Close, ada_Y_lately_BRR))\n",
        "Ada_RMSE_5.append(math.sqrt(mean_squared_error(Y_actual_Close, ada_Y_lately_BRR)))\n",
        "\n",
        "Ada_MAE_5 .append(mean_absolute_error(Y_actual_Close, ada_Y_lately_RF))\n",
        "Ada_RMSE_5.append(math.sqrt(mean_squared_error(Y_actual_Close, ada_Y_lately_RF)))\n"
      ],
      "metadata": {
        "id": "FXpXM52zirAZ"
      },
      "execution_count": null,
      "outputs": []
    },
    {
      "cell_type": "code",
      "source": [
        "Table_1 = pd.DataFrame()\n",
        "Algorithm = ['Adaboost Linear-Linear','Adaboost-Linear-KNN','Adaboost-Linear- Bayesian','Adaboost-Linear-RF']\n",
        "Table_1['Algorithm'] = pd.Series(Algorithm)\n",
        "Table_1['MAE']= pd.Series(MAE_5)\n",
        "Table_1['RMSE'] = pd.Series(RMSE_5)"
      ],
      "metadata": {
        "id": "fM2JAm-N3wqJ"
      },
      "execution_count": null,
      "outputs": []
    },
    {
      "cell_type": "code",
      "source": [],
      "metadata": {
        "id": "eBOIg0YvHcWe"
      },
      "execution_count": null,
      "outputs": []
    }
  ]
}